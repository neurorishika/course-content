{
 "cells": [
  {
   "cell_type": "markdown",
   "metadata": {
    "colab_type": "text",
    "id": "view-in-github"
   },
   "source": [
    "<a href=\"https://colab.research.google.com/github/NeuromatchAcademy/course-content/blob/master/tutorials/W1D2_ModelingPractice/W1D2_Tutorial2.ipynb\" target=\"_parent\"><img src=\"https://colab.research.google.com/assets/colab-badge.svg\" alt=\"Open In Colab\"/></a>"
   ]
  },
  {
   "cell_type": "markdown",
   "metadata": {
    "colab_type": "text",
    "id": "hzj-9uW4qDay"
   },
   "source": [
    "# Neuromatch Academy: Week 1, Day 2, Tutorial 2\n",
    "# Modeling Practice: Model implementation and evaluation\n",
    "__Content creators:__ Marius 't Hart, Paul Schrater, Gunnar Blohm\n",
    "\n",
    "__Content reviewers:__ Norma Kuhn, Saeed Salehi, Madineh Sarvestani, Spiros Chavlis, Michael Waskom"
   ]
  },
  {
   "cell_type": "markdown",
   "metadata": {
    "colab_type": "text",
    "id": "33XOc4X_qDbL"
   },
   "source": [
    "---\n",
    "# Tutorial objectives\n",
    "\n",
    "We are investigating a simple phenomena, working through the 10 steps of modeling ([Blohm et al., 2019](https://doi.org/10.1523/ENEURO.0352-19.2019)) in two notebooks: \n",
    "\n",
    "**Framing the question**\n",
    "\n",
    "1. finding a phenomenon and a question to ask about it\n",
    "2. understanding the state of the art\n",
    "3. determining the basic ingredients\n",
    "4. formulating specific, mathematically defined hypotheses\n",
    "\n",
    "**Implementing the model**\n",
    "\n",
    "5. selecting the toolkit\n",
    "6. planning the model\n",
    "7. implementing the model\n",
    "\n",
    "**Model testing**\n",
    "\n",
    "8. completing the model\n",
    "9. testing and evaluating the model\n",
    "\n",
    "**Publishing**\n",
    "\n",
    "10. publishing models\n",
    "\n",
    "We did steps 1-5 in Tutorial 1 and will cover steps 6-10 in Tutorial 2 (this notebook)."
   ]
  },
  {
   "cell_type": "markdown",
   "metadata": {
    "colab_type": "text",
    "id": "EbVRzqZBR17L"
   },
   "source": [
    "# Setup\n",
    "\n"
   ]
  },
  {
   "cell_type": "code",
   "execution_count": 1,
   "metadata": {
    "cellView": "both",
    "colab": {},
    "colab_type": "code",
    "id": "oKP9npTbqDbU"
   },
   "outputs": [],
   "source": [
    "import numpy as np\n",
    "import matplotlib.pyplot as plt\n",
    "from scipy import stats\n",
    "from scipy.stats import gamma\n",
    "from IPython.display import YouTubeVideo"
   ]
  },
  {
   "cell_type": "code",
   "execution_count": 2,
   "metadata": {
    "cellView": "form",
    "colab": {},
    "colab_type": "code",
    "id": "_zVDbJH1WhIj"
   },
   "outputs": [],
   "source": [
    "# @title Figure settings\n",
    "import ipywidgets as widgets\n",
    "\n",
    "%config InlineBackend.figure_format = 'retina'\n",
    "\n",
    "plt.style.use(\"https://raw.githubusercontent.com/NeuromatchAcademy/course-content/master/nma.mplstyle\")"
   ]
  },
  {
   "cell_type": "code",
   "execution_count": 3,
   "metadata": {
    "cellView": "form",
    "colab": {},
    "colab_type": "code",
    "id": "tqxrwTNjkzyD"
   },
   "outputs": [],
   "source": [
    "# @title Helper functions\n",
    "\n",
    "\n",
    "def my_moving_window(x, window=3, FUN=np.mean):\n",
    "    \"\"\"\n",
    "    Calculates a moving estimate for a signal\n",
    "\n",
    "    Args:\n",
    "        x (numpy.ndarray): a vector array of size N\n",
    "        window (int): size of the window, must be a positive integer\n",
    "        FUN (function): the function to apply to the samples in the window\n",
    "\n",
    "    Returns:\n",
    "        (numpy.ndarray): a vector array of size N, containing the moving\n",
    "        average of x, calculated with a window of size window\n",
    "\n",
    "    There are smarter and faster solutions (e.g. using convolution) but this\n",
    "    function shows what the output really means. This function skips NaNs, and\n",
    "    should not be susceptible to edge effects: it will simply use\n",
    "    all the  available samples, which means that close to the edges of the\n",
    "    signal or close to NaNs, the output will just be based on fewer samples. By\n",
    "    default, this function will apply a mean to the samples in the window, but\n",
    "    this can be changed to be a max/min/median or other function that returns a\n",
    "    single numeric value based on a sequence of values.\n",
    "    \"\"\"\n",
    "\n",
    "    # if data is a matrix, apply filter to each row:\n",
    "    if len(x.shape) == 2:\n",
    "        output = np.zeros(x.shape)\n",
    "        for rown in range(x.shape[0]):\n",
    "            output[rown, :] = my_moving_window(x[rown, :],\n",
    "                                               window=window, FUN=FUN)\n",
    "        return output\n",
    "\n",
    "    # make output array of the same size as x:\n",
    "    output = np.zeros(x.size)\n",
    "\n",
    "    # loop through the signal in x\n",
    "    for samp_i in range(x.size):\n",
    "\n",
    "        values = []\n",
    "\n",
    "        # loop through the window:\n",
    "        for wind_i in range(int(1 - window), 1):\n",
    "\n",
    "            if ((samp_i + wind_i) < 0) or (samp_i + wind_i) > (x.size - 1):\n",
    "                # out of range\n",
    "                continue\n",
    "\n",
    "            # sample is in range and not nan, use it:\n",
    "            if not(np.isnan(x[samp_i + wind_i])):\n",
    "                values += [x[samp_i + wind_i]]\n",
    "\n",
    "        # calculate the mean in the window for this point in the output:\n",
    "        output[samp_i] = FUN(values)\n",
    "\n",
    "    return output\n",
    "\n",
    "\n",
    "def my_plot_percepts(datasets=None, plotconditions=False):\n",
    "\n",
    "    if isinstance(datasets, dict):\n",
    "        # try to plot the datasets\n",
    "        # they should be named...\n",
    "        # 'expectations', 'judgments', 'predictions'\n",
    "\n",
    "        plt.figure(figsize=(8, 8))  # set aspect ratio = 1? not really\n",
    "\n",
    "        plt.ylabel('perceived self motion [m/s]')\n",
    "        plt.xlabel('perceived world motion [m/s]')\n",
    "        plt.title('perceived velocities')\n",
    "\n",
    "        # loop through the entries in datasets\n",
    "        # plot them in the appropriate way\n",
    "        for k in datasets.keys():\n",
    "            if k == 'expectations':\n",
    "\n",
    "                expect = datasets[k]\n",
    "                plt.scatter(expect['world'], expect['self'], marker='*',\n",
    "                            color='xkcd:green', label='my expectations')\n",
    "\n",
    "            elif k == 'judgments':\n",
    "\n",
    "                judgments = datasets[k]\n",
    "\n",
    "                for condition in np.unique(judgments[:, 0]):\n",
    "                    c_idx = np.where(judgments[:, 0] == condition)[0]\n",
    "                    cond_self_motion = judgments[c_idx[0], 1]\n",
    "                    cond_world_motion = judgments[c_idx[0], 2]\n",
    "                    if cond_world_motion == -1 and cond_self_motion == 0:\n",
    "                        c_label = 'world-motion condition judgments'\n",
    "                    elif cond_world_motion == 0 and cond_self_motion == 1:\n",
    "                        c_label = 'self-motion condition judgments'\n",
    "                    else:\n",
    "                        c_label = f\"condition [{condition:d}] judgments\"\n",
    "\n",
    "                    plt.scatter(judgments[c_idx, 3], judgments[c_idx, 4],\n",
    "                                label=c_label, alpha=0.2)\n",
    "\n",
    "            elif k == 'predictions':\n",
    "\n",
    "                predictions = datasets[k]\n",
    "\n",
    "                for condition in np.unique(predictions[:, 0]):\n",
    "                    c_idx = np.where(predictions[:, 0] == condition)[0]\n",
    "                    cond_self_motion = predictions[c_idx[0], 1]\n",
    "                    cond_world_motion = predictions[c_idx[0], 2]\n",
    "                    if cond_world_motion == -1 and cond_self_motion == 0:\n",
    "                        c_label = 'predicted world-motion condition'\n",
    "                    elif cond_world_motion == 0 and cond_self_motion == 1:\n",
    "                        c_label = 'predicted self-motion condition'\n",
    "                    else:\n",
    "                        c_label = f\"condition [{condition:d}] prediction\"\n",
    "\n",
    "                    plt.scatter(predictions[c_idx, 4], predictions[c_idx, 3],\n",
    "                                marker='x', label=c_label)\n",
    "\n",
    "            else:\n",
    "                print(\"datasets keys should be 'hypothesis', \\\n",
    "                'judgments' and 'predictions'\")\n",
    "\n",
    "        if plotconditions:\n",
    "            # this code is simplified but only works for the dataset we have:\n",
    "            plt.scatter([1], [0], marker='<', facecolor='none',\n",
    "                        edgecolor='xkcd:black', linewidths=2,\n",
    "                        label='world-motion stimulus', s=80)\n",
    "            plt.scatter([0], [1], marker='>', facecolor='none',\n",
    "                        edgecolor='xkcd:black', linewidths=2,\n",
    "                        label='self-motion stimulus', s=80)\n",
    "\n",
    "        plt.legend(facecolor='xkcd:white')\n",
    "        plt.show()\n",
    "\n",
    "    else:\n",
    "        if datasets is not None:\n",
    "            print('datasets argument should be a dict')\n",
    "            raise TypeError\n",
    "\n",
    "\n",
    "def my_plot_stimuli(t, a, v):\n",
    "    plt.figure(figsize=(10, 6))\n",
    "    plt.plot(t, a, label='acceleration [$m/s^2$]')\n",
    "    plt.plot(t, v, label='velocity [$m/s$]')\n",
    "    plt.xlabel('time [s]')\n",
    "    plt.ylabel('[motion]')\n",
    "    plt.legend(facecolor='xkcd:white')\n",
    "    plt.show()\n",
    "\n",
    "\n",
    "def my_plot_motion_signals():\n",
    "    dt = 1 / 10\n",
    "    a = gamma.pdf(np.arange(0, 10, dt), 2.5, 0)\n",
    "    t = np.arange(0, 10, dt)\n",
    "    v = np.cumsum(a * dt)\n",
    "\n",
    "    fig, [ax1, ax2] = plt.subplots(nrows=1, ncols=2, sharex='col',\n",
    "                                   sharey='row', figsize=(14, 6))\n",
    "    fig.suptitle('Sensory ground truth')\n",
    "\n",
    "    ax1.set_title('world-motion condition')\n",
    "    ax1.plot(t, -v, label='visual [$m/s$]')\n",
    "    ax1.plot(t, np.zeros(a.size), label='vestibular [$m/s^2$]')\n",
    "    ax1.set_xlabel('time [s]')\n",
    "    ax1.set_ylabel('motion')\n",
    "    ax1.legend(facecolor='xkcd:white')\n",
    "\n",
    "    ax2.set_title('self-motion condition')\n",
    "    ax2.plot(t, -v, label='visual [$m/s$]')\n",
    "    ax2.plot(t, a, label='vestibular [$m/s^2$]')\n",
    "    ax2.set_xlabel('time [s]')\n",
    "    ax2.set_ylabel('motion')\n",
    "    ax2.legend(facecolor='xkcd:white')\n",
    "\n",
    "    plt.show()\n",
    "\n",
    "\n",
    "def my_plot_sensorysignals(judgments, opticflow, vestibular, returnaxes=False,\n",
    "                           addaverages=False, integrateVestibular=False,\n",
    "                           addGroundTruth=False):\n",
    "\n",
    "    if addGroundTruth:\n",
    "        dt = 1 / 10\n",
    "        a = gamma.pdf(np.arange(0, 10, dt), 2.5, 0)\n",
    "        t = np.arange(0, 10, dt)\n",
    "        v = a\n",
    "\n",
    "    wm_idx = np.where(judgments[:, 0] == 0)\n",
    "    sm_idx = np.where(judgments[:, 0] == 1)\n",
    "\n",
    "    opticflow = opticflow.transpose()\n",
    "    wm_opticflow = np.squeeze(opticflow[:, wm_idx])\n",
    "    sm_opticflow = np.squeeze(opticflow[:, sm_idx])\n",
    "\n",
    "    if integrateVestibular:\n",
    "        vestibular = np.cumsum(vestibular * .1, axis=1)\n",
    "        if addGroundTruth:\n",
    "            v = np.cumsum(a * dt)\n",
    "\n",
    "    vestibular = vestibular.transpose()\n",
    "    wm_vestibular = np.squeeze(vestibular[:, wm_idx])\n",
    "    sm_vestibular = np.squeeze(vestibular[:, sm_idx])\n",
    "\n",
    "    X = np.arange(0, 10, .1)\n",
    "\n",
    "    fig, my_axes = plt.subplots(nrows=2, ncols=2, sharex='col',\n",
    "                                sharey='row', figsize=(15, 10))\n",
    "    fig.suptitle('Sensory signals')\n",
    "\n",
    "    my_axes[0][0].plot(X, wm_opticflow, color='xkcd:light red', alpha=0.1)\n",
    "    my_axes[0][0].plot([0, 10], [0, 0], ':', color='xkcd:black')\n",
    "    if addGroundTruth:\n",
    "        my_axes[0][0].plot(t, -v, color='xkcd:red')\n",
    "    if addaverages:\n",
    "        my_axes[0][0].plot(X, np.average(wm_opticflow, axis=1),\n",
    "                           color='xkcd:red', alpha=1)\n",
    "    my_axes[0][0].set_title('optic-flow in world-motion condition')\n",
    "    my_axes[0][0].set_ylabel('velocity signal [$m/s$]')\n",
    "\n",
    "    my_axes[0][1].plot(X, sm_opticflow, color='xkcd:azure', alpha=0.1)\n",
    "    my_axes[0][1].plot([0, 10], [0, 0], ':', color='xkcd:black')\n",
    "    if addGroundTruth:\n",
    "        my_axes[0][1].plot(t, -v, color='xkcd:blue')\n",
    "    if addaverages:\n",
    "        my_axes[0][1].plot(X, np.average(sm_opticflow, axis=1),\n",
    "                           color='xkcd:blue', alpha=1)\n",
    "    my_axes[0][1].set_title('optic-flow in self-motion condition')\n",
    "\n",
    "    my_axes[1][0].plot(X, wm_vestibular, color='xkcd:light red', alpha=0.1)\n",
    "    my_axes[1][0].plot([0, 10], [0, 0], ':', color='xkcd:black')\n",
    "    if addaverages:\n",
    "        my_axes[1][0].plot(X, np.average(wm_vestibular, axis=1),\n",
    "                           color='xkcd:red', alpha=1)\n",
    "    my_axes[1][0].set_title('vestibular signal in world-motion condition')\n",
    "    if addGroundTruth:\n",
    "        my_axes[1][0].plot(t, np.zeros(100), color='xkcd:red')\n",
    "    my_axes[1][0].set_xlabel('time [s]')\n",
    "    if integrateVestibular:\n",
    "        my_axes[1][0].set_ylabel('velocity signal [$m/s$]')\n",
    "    else:\n",
    "        my_axes[1][0].set_ylabel('acceleration signal [$m/s^2$]')\n",
    "\n",
    "    my_axes[1][1].plot(X, sm_vestibular, color='xkcd:azure', alpha=0.1)\n",
    "    my_axes[1][1].plot([0, 10], [0, 0], ':', color='xkcd:black')\n",
    "    if addGroundTruth:\n",
    "        my_axes[1][1].plot(t, v, color='xkcd:blue')\n",
    "    if addaverages:\n",
    "        my_axes[1][1].plot(X, np.average(sm_vestibular, axis=1),\n",
    "                           color='xkcd:blue', alpha=1)\n",
    "    my_axes[1][1].set_title('vestibular signal in self-motion condition')\n",
    "    my_axes[1][1].set_xlabel('time [s]')\n",
    "\n",
    "    if returnaxes:\n",
    "        return my_axes\n",
    "    else:\n",
    "        plt.show()\n",
    "\n",
    "\n",
    "def my_threshold_solution(selfmotion_vel_est, threshold):\n",
    "    is_move = (selfmotion_vel_est > threshold)\n",
    "    return is_move\n",
    "\n",
    "\n",
    "def my_moving_threshold(selfmotion_vel_est, thresholds):\n",
    "\n",
    "    pselfmove_nomove = np.empty(thresholds.shape)\n",
    "    pselfmove_move = np.empty(thresholds.shape)\n",
    "    prop_correct = np.empty(thresholds.shape)\n",
    "    pselfmove_nomove[:] = np.NaN\n",
    "    pselfmove_move[:] = np.NaN\n",
    "    prop_correct[:] = np.NaN\n",
    "\n",
    "    for thr_i, threshold in enumerate(thresholds):\n",
    "\n",
    "        # run my_threshold that the students will write:\n",
    "        try:\n",
    "            is_move = my_threshold(selfmotion_vel_est, threshold)\n",
    "        except Exception:\n",
    "            is_move = my_threshold_solution(selfmotion_vel_est, threshold)\n",
    "\n",
    "        # store results:\n",
    "        pselfmove_nomove[thr_i] = np.mean(is_move[0:100])\n",
    "        pselfmove_move[thr_i] = np.mean(is_move[100:200])\n",
    "\n",
    "        # calculate the proportion classified correctly:\n",
    "        # (1-pselfmove_nomove) + ()\n",
    "        # Correct rejections:\n",
    "        p_CR = (1 - pselfmove_nomove[thr_i])\n",
    "        # correct detections:\n",
    "        p_D = pselfmove_move[thr_i]\n",
    "\n",
    "        # this is corrected for proportion of trials in each condition:\n",
    "        prop_correct[thr_i] = (p_CR + p_D) / 2\n",
    "\n",
    "    return [pselfmove_nomove, pselfmove_move, prop_correct]\n",
    "\n",
    "\n",
    "def my_plot_thresholds(thresholds, world_prop, self_prop, prop_correct):\n",
    "\n",
    "    plt.figure(figsize=(12, 8))\n",
    "    plt.title('threshold effects')\n",
    "    plt.plot([min(thresholds), max(thresholds)], [0, 0], ':',\n",
    "             color='xkcd:black')\n",
    "    plt.plot([min(thresholds), max(thresholds)], [0.5, 0.5], ':',\n",
    "             color='xkcd:black')\n",
    "    plt.plot([min(thresholds), max(thresholds)], [1, 1], ':',\n",
    "             color='xkcd:black')\n",
    "    plt.plot(thresholds, world_prop, label='world motion condition')\n",
    "    plt.plot(thresholds, self_prop, label='self motion condition')\n",
    "    plt.plot(thresholds, prop_correct, color='xkcd:purple',\n",
    "             label='correct classification')\n",
    "    plt.xlabel('threshold')\n",
    "    plt.ylabel('proportion correct or classified as self motion')\n",
    "    plt.legend(facecolor='xkcd:white')\n",
    "    plt.show()\n",
    "\n",
    "\n",
    "def my_plot_predictions_data(judgments, predictions):\n",
    "\n",
    "    # conditions = np.concatenate((np.abs(judgments[:, 1]),\n",
    "    #                              np.abs(judgments[:, 2])))\n",
    "    # veljudgmnt = np.concatenate((judgments[:, 3], judgments[:, 4]))\n",
    "    # velpredict = np.concatenate((predictions[:, 3], predictions[:, 4]))\n",
    "\n",
    "    # self:\n",
    "    # conditions_self = np.abs(judgments[:, 1])\n",
    "    veljudgmnt_self = judgments[:, 3]\n",
    "    velpredict_self = predictions[:, 3]\n",
    "\n",
    "    # world:\n",
    "    # conditions_world = np.abs(judgments[:, 2])\n",
    "    veljudgmnt_world = judgments[:, 4]\n",
    "    velpredict_world = predictions[:, 4]\n",
    "\n",
    "    fig, [ax1, ax2] = plt.subplots(nrows=1, ncols=2, sharey='row',\n",
    "                                   figsize=(12, 5))\n",
    "\n",
    "    ax1.scatter(veljudgmnt_self, velpredict_self, alpha=0.2)\n",
    "    ax1.plot([0, 1], [0, 1], ':', color='xkcd:black')\n",
    "    ax1.set_title('self-motion judgments')\n",
    "    ax1.set_xlabel('observed')\n",
    "    ax1.set_ylabel('predicted')\n",
    "\n",
    "    ax2.scatter(veljudgmnt_world, velpredict_world, alpha=0.2)\n",
    "    ax2.plot([0, 1], [0, 1], ':', color='xkcd:black')\n",
    "    ax2.set_title('world-motion judgments')\n",
    "    ax2.set_xlabel('observed')\n",
    "    ax2.set_ylabel('predicted')\n",
    "\n",
    "    plt.show()"
   ]
  },
  {
   "cell_type": "code",
   "execution_count": 4,
   "metadata": {
    "cellView": "form",
    "colab": {},
    "colab_type": "code",
    "id": "GJG0pGXCqDbu"
   },
   "outputs": [],
   "source": [
    "# @title Data retrieval\n",
    "import os\n",
    "import wget\n",
    "\n",
    "fname=\"W1D2_data.npz\"\n",
    "if not os.path.exists(fname):\n",
    "  wget.download(\"https://osf.io/c5xyf/download\",out=fname)\n",
    "\n",
    "filez = np.load(file=fname, allow_pickle=True)\n",
    "judgments = filez['judgments']\n",
    "opticflow = filez['opticflow']\n",
    "vestibular = filez['vestibular']"
   ]
  },
  {
   "cell_type": "markdown",
   "metadata": {
    "colab_type": "text",
    "id": "2ZS7z43AD4Cz"
   },
   "source": [
    "---\n",
    "# Section 6: Model planning"
   ]
  },
  {
   "cell_type": "code",
   "execution_count": 5,
   "metadata": {
    "cellView": "form",
    "colab": {
     "base_uri": "https://localhost:8080/",
     "height": 518
    },
    "colab_type": "code",
    "id": "yBuLADkkDHZx",
    "outputId": "bbee7f99-33ed-4c54-ea28-6943f9d38754"
   },
   "outputs": [
    {
     "name": "stdout",
     "output_type": "stream",
     "text": [
      "Video available at https://youtube.com/watch?v=dRTOFFigxa0\n"
     ]
    },
    {
     "data": {
      "image/jpeg": "[encoded data removed]",
      "text/html": [
       "\n",
       "        <iframe\n",
       "            width=\"854\"\n",
       "            height=\"480\"\n",
       "            src=\"https://www.youtube.com/embed/dRTOFFigxa0?fs=1\"\n",
       "            frameborder=\"0\"\n",
       "            allowfullscreen\n",
       "        ></iframe>\n",
       "        "
      ],
      "text/plain": [
       "<IPython.lib.display.YouTubeVideo at 0x19a8366eac8>"
      ]
     },
     "execution_count": 5,
     "metadata": {},
     "output_type": "execute_result"
    }
   ],
   "source": [
    "# @title Video 6: Planning\n",
    "video = YouTubeVideo(id='dRTOFFigxa0', width=854, height=480, fs=1)\n",
    "print(f\"Video available at https://youtube.com/watch?v={video.id}\")\n",
    "video"
   ]
  },
  {
   "cell_type": "markdown",
   "metadata": {
    "colab_type": "text",
    "id": "WswMF3hala0x"
   },
   "source": [
    "\n",
    "**Goal:** Identify the key components of the model and how they work together.\n",
    "\n",
    "Our goal all along has been to model our perceptual estimates of sensory data.\n",
    "Now that we have some idea of what we want to do, we need to line up the components of the model: what are the input and output? Which computations are done and in what order? \n",
    "\n",
    "Our model will have:\n",
    "* **inputs**: the values the system has available - this can be broken down in _data:_ the sensory signals, _parameters:_ the threshold and the window sizes for filtering\n",
    "* **outputs**: these are the predictions our model will make - for this tutorial these are the perceptual judgments on each trial in m/s, just like the judgments participants made.\n",
    "* **model functions**: A set of functions that perform the hypothesized computations.\n",
    "\n",
    "We will define a set of functions that take our data and some parameters as input, can run our model, and output a prediction for the judgment data.\n",
    "\n",
    "**Recap of what we've accomplished so far:**\n",
    "\n",
    "To model perceptual estimates from our sensory data, we need to \n",
    "1. _integrate:_ to ensure sensory information are in appropriate units\n",
    "2. _filter:_ to reduce noise and set timescale\n",
    "3. _threshold:_ to model detection\n",
    "\n",
    "This will be done with these operations:\n",
    "1. _integrate:_ `np.cumsum()`\n",
    "2. _filter:_ `my_moving_window()`\n",
    "3. _threshold:_ `if` with a comparison (`>` or `<`) and `else`\n",
    "\n",
    "**_Planning our model:_**\n",
    "\n",
    "We will now start putting all the pieces together. Normally you would sketch this yourself, but here is an overview of how the functions comprising the model are going to work:\n",
    "\n",
    "![model functions purpose](https://raw.githubusercontent.com/NeuromatchAcademy/course-content/master/tutorials/W1D2_ModelingPractice/static/NMA-W1D2-fig05.png)\n",
    "\n",
    "Below is the main function with a detailed explanation of what the function is supposed to do, exactly what input is expected, and what output will be generated. \n",
    "\n",
    "The model is not complete, so it only returns nans (**n**ot-**a**-**n**umber) for now. However, this outlines how most model code works: it gets some measured data (the sensory signals) and a set of parameters as input, and as output returns a prediction on other measured data (the velocity judgments). \n",
    "\n",
    "The goal of this function is to define the top level of a simulation model which:\n",
    "* receives all input\n",
    "* loops through the cases\n",
    "* calls functions that computes predicted values for each case\n",
    "* outputs the predictions"
   ]
  },
  {
   "cell_type": "markdown",
   "metadata": {
    "colab_type": "text",
    "id": "AqzBfQeISJGH"
   },
   "source": [
    "**Main model function**"
   ]
  },
  {
   "cell_type": "code",
   "execution_count": 6,
   "metadata": {
    "cellView": "both",
    "colab": {
     "base_uri": "https://localhost:8080/",
     "height": 34
    },
    "colab_type": "code",
    "id": "vjZfSZA5la06",
    "outputId": "cdc89db7-15c9-4c42-e2fb-72fa47a6990b"
   },
   "outputs": [
    {
     "data": {
      "text/plain": [
       "{'selfmotion': array([nan, nan]), 'worldmotion': array([nan, nan])}"
      ]
     },
     "execution_count": 6,
     "metadata": {},
     "output_type": "execute_result"
    }
   ],
   "source": [
    "def my_train_illusion_model(sensorydata, params):\n",
    "  \"\"\"\n",
    "  Generate output predictions of perceived self-motion and perceived\n",
    "  world-motion velocity based on input visual and vestibular signals.\n",
    "\n",
    "  Args:\n",
    "\n",
    "    sensorydata: (dict) dictionary with two named entries:\n",
    "        opticflow: (numpy.ndarray of float) NxM array with N trials on rows\n",
    "                   and M visual signal samples in columns\n",
    "\n",
    "        vestibular: (numpy.ndarray of float) NxM array with N trials on rows\n",
    "                    and M vestibular signal samples in columns\n",
    "\n",
    "    params: (dict) dictionary with named entries:\n",
    "        threshold: (float) vestibular threshold for credit assignment\n",
    "\n",
    "        filterwindow: (list of int) determines the strength of filtering for\n",
    "                      the visual and vestibular signals, respectively\n",
    "\n",
    "        integrate (bool): whether to integrate the vestibular signals, will\n",
    "                          be set to True if absent\n",
    "\n",
    "        FUN (function): function used in the filter, will be set to\n",
    "                        np.mean if absent\n",
    "\n",
    "        samplingrate (float): the number of samples per second in the\n",
    "                              sensory data, will be set to 10 if absent\n",
    "\n",
    "  Returns:\n",
    "\n",
    "    dict with two entries:\n",
    "\n",
    "      selfmotion: (numpy.ndarray) vector array of length N, with predictions\n",
    "                  of perceived self motion\n",
    "\n",
    "      worldmotion: (numpy.ndarray) vector array of length N, with predictions\n",
    "                   of perceived world motion\n",
    "  \"\"\"\n",
    "\n",
    "  # sanitize input a little\n",
    "  if not('FUN' in params.keys()):\n",
    "      params['FUN'] = np.mean\n",
    "  if not('integrate' in params.keys()):\n",
    "      params['integrate'] = True\n",
    "  if not('samplingrate' in params.keys()):\n",
    "      params['samplingrate'] = 10\n",
    "\n",
    "  # number of trials:\n",
    "  ntrials = sensorydata['opticflow'].shape[0]\n",
    "\n",
    "  # set up variables to collect output\n",
    "  selfmotion = np.empty(ntrials)\n",
    "  worldmotion = np.empty(ntrials)\n",
    "\n",
    "  # loop through trials?\n",
    "  for trialN in range(ntrials):\n",
    "\n",
    "      # these are our sensory variables (inputs)\n",
    "      vis = sensorydata['opticflow'][trialN, :]\n",
    "      ves = sensorydata['vestibular'][trialN, :]\n",
    "\n",
    "      # generate output predicted perception:\n",
    "      selfmotion[trialN],\\\n",
    "        worldmotion[trialN] = my_perceived_motion(vis=vis, ves=ves,\n",
    "                                                  params=params)\n",
    "\n",
    "  return {'selfmotion': selfmotion, 'worldmotion': worldmotion}\n",
    "\n",
    "\n",
    "# here is a mock version of my_perceived motion.\n",
    "# so you can test my_train_illusion_model()\n",
    "def my_perceived_motion(*args, **kwargs):\n",
    "  return [np.nan, np.nan]\n",
    "\n",
    "\n",
    "# let's look at the preditions we generated for two sample trials (0,100)\n",
    "# we should get a 1x2 vector of self-motion prediction and another\n",
    "# for world-motion\n",
    "\n",
    "sensorydata={'opticflow': opticflow[[0, 100], :0],\n",
    "             'vestibular': vestibular[[0, 100], :0]}\n",
    "params={'threshold': 0.33, 'filterwindows': [100, 50]}\n",
    "my_train_illusion_model(sensorydata=sensorydata, params=params)"
   ]
  },
  {
   "cell_type": "markdown",
   "metadata": {
    "colab_type": "text",
    "id": "Wjqk_VeVgqDo"
   },
   "source": [
    "We've also completed the `my_perceived_motion()` function for you below. Follow this example to complete the template for `my_selfmotion()` and `my_worldmotion()`. Write out the inputs and outputs, and the steps required to calculate the outputs from the inputs.\n",
    "\n",
    "**Perceived motion function**"
   ]
  },
  {
   "cell_type": "code",
   "execution_count": 7,
   "metadata": {
    "cellView": "both",
    "colab": {},
    "colab_type": "code",
    "id": "A5WroFU-la1U"
   },
   "outputs": [],
   "source": [
    "# Full perceived motion function\n",
    "\n",
    "\n",
    "def my_perceived_motion(vis, ves, params):\n",
    "  \"\"\"\n",
    "  Takes sensory data and parameters and returns predicted percepts\n",
    "\n",
    "  Args:\n",
    "      vis (numpy.ndarray) : 1xM array of optic flow velocity data\n",
    "      ves (numpy.ndarray) : 1xM array of vestibular acceleration data\n",
    "      params              : (dict) dictionary with named entries:\n",
    "                            see my_train_illusion_model() for details\n",
    "\n",
    "  Returns:\n",
    "      [list of floats]    : prediction for perceived self-motion based on\n",
    "                            vestibular data, and prediction for perceived\n",
    "                            world-motion based on perceived self-motion and\n",
    "                            visual data\n",
    "  \"\"\"\n",
    "\n",
    "  # estimate self motion based on only the vestibular data\n",
    "  # pass on the parameters\n",
    "  selfmotion = my_selfmotion(ves=ves, params=params)\n",
    "\n",
    "  # estimate the world motion, based on the selfmotion and visual data\n",
    "  # pass on the parameters as well\n",
    "  worldmotion = my_worldmotion(vis=vis, selfmotion=selfmotion, params=params)\n",
    "\n",
    "  return [selfmotion, worldmotion]"
   ]
  },
  {
   "cell_type": "markdown",
   "metadata": {
    "colab_type": "text",
    "id": "r0d72X8xla1I"
   },
   "source": [
    "## TD 6.1: Formulate purpose of the self motion function\n",
    "\n",
    "Now we plan out the purpose of one of the remaining functions. **Only name input arguments, write help text and comments, _no code_.** The goal of this exercise is to make writing the code (in Micro-tutorial 7) much easier. Based on our work before the break, you should now be able to answer these questions for each function:\n",
    "\n",
    "* what (sensory) data is necessary? \n",
    "* what parameters does the function need, if any?\n",
    "* which operations will be performed on the input?\n",
    "* what is the output?\n",
    "\n",
    "The number of arguments is correct."
   ]
  },
  {
   "cell_type": "markdown",
   "metadata": {
    "colab_type": "text",
    "id": "TYzRAst6S56u"
   },
   "source": [
    "**Template calculate self motion**\n",
    "\n",
    "Name the _input arguments_, complete the _help text_, and add _comments_ in the function below to describe the inputs, the outputs, and operations using elements from the recap at the top of this notebook (or from micro-tutorials 3 and 4 in part 1), in order to plan out the function. Do not write any code."
   ]
  },
  {
   "cell_type": "code",
   "execution_count": 8,
   "metadata": {
    "cellView": "both",
    "colab": {},
    "colab_type": "code",
    "id": "4uB61BGFhpVH"
   },
   "outputs": [],
   "source": [
    "# to_remove solution\n",
    "\n",
    "\n",
    "def my_selfmotion(ves, params):\n",
    "    \"\"\"\n",
    "    Estimates self motion for one vestibular signal\n",
    "\n",
    "    Args:\n",
    "        ves (numpy.ndarray): 1xM array with a vestibular signal\n",
    "        params (dict): dictionary with named entries:\n",
    "            see my_train_illusion_model() for details\n",
    "\n",
    "    Returns:\n",
    "        (float): an estimate of self motion in m/s\n",
    "    \"\"\"\n",
    "    s_ves = my_moving_window(np.cumsum(ves* .1), window=params[\"filterwindows\"][0])\n",
    "    output = s_ves\n",
    "    # 1. integrate vestibular signal\n",
    "    # 2. running window function\n",
    "    # 3. take final value\n",
    "    # 4. compare to threshold\n",
    "\n",
    "    # if higher than threshold: return value\n",
    "    # if lower than threshold: return 0\n",
    "    return output"
   ]
  },
  {
   "cell_type": "markdown",
   "metadata": {
    "colab_type": "text",
    "id": "_6JhNTIGTB_o"
   },
   "source": [
    "**Template calculate world motion**\n",
    "\n",
    "We have drafted the help text and written comments in the function below that describe the inputs, the outputs, and operations we use to estimate world motion, based on the recap above."
   ]
  },
  {
   "cell_type": "code",
   "execution_count": 9,
   "metadata": {
    "cellView": "both",
    "colab": {},
    "colab_type": "code",
    "id": "y-hPMkJukHh1"
   },
   "outputs": [],
   "source": [
    "# World motion function\n",
    "\n",
    "\n",
    "def my_worldmotion(vis, selfmotion, params):\n",
    "    \"\"\"\n",
    "    Estimates world motion based on the visual signal, the estimate of\n",
    "\n",
    "    Args:\n",
    "        vis (numpy.ndarray): 1xM array with the optic flow signal\n",
    "        selfmotion (float): estimate of self motion\n",
    "        params (dict): dictionary with named entries:\n",
    "            see my_train_illusion_model() for details\n",
    "\n",
    "    Returns:\n",
    "        (float): an estimate of world motion in m/s\n",
    "    \"\"\"\n",
    "    s_opt = my_moving_window(vis, window=params['filterwindows'][1])\n",
    "    output = -s_opt - selfmotion\n",
    "\n",
    "    return output"
   ]
  },
  {
   "cell_type": "markdown",
   "metadata": {
    "colab_type": "text",
    "id": "1f2zLMJNGfbb"
   },
   "source": [
    "---\n",
    "# Section 7: Model implementation"
   ]
  },
  {
   "cell_type": "code",
   "execution_count": 10,
   "metadata": {
    "cellView": "form",
    "colab": {
     "base_uri": "https://localhost:8080/",
     "height": 518
    },
    "colab_type": "code",
    "id": "yqKpDcxPEHSP",
    "outputId": "3f4ae19b-b2ff-4399-b50b-f5a9eca1357a"
   },
   "outputs": [
    {
     "name": "stdout",
     "output_type": "stream",
     "text": [
      "Video available at https://youtube.com/watch?v=DMSIt7t-LO8\n"
     ]
    },
    {
     "data": {
      "image/jpeg": "[encoded data removed]",
      "text/html": [
       "\n",
       "        <iframe\n",
       "            width=\"854\"\n",
       "            height=\"480\"\n",
       "            src=\"https://www.youtube.com/embed/DMSIt7t-LO8?fs=1\"\n",
       "            frameborder=\"0\"\n",
       "            allowfullscreen\n",
       "        ></iframe>\n",
       "        "
      ],
      "text/plain": [
       "<IPython.lib.display.YouTubeVideo at 0x19a835fd710>"
      ]
     },
     "execution_count": 10,
     "metadata": {},
     "output_type": "execute_result"
    }
   ],
   "source": [
    "# @title Video 7: Implementation\n",
    "video = YouTubeVideo(id='DMSIt7t-LO8', width=854, height=480, fs=1)\n",
    "print(f\"Video available at https://youtube.com/watch?v={video.id}\")\n",
    "video"
   ]
  },
  {
   "cell_type": "markdown",
   "metadata": {
    "colab_type": "text",
    "id": "_u9ILuKJla1c"
   },
   "source": [
    "\n",
    "**Goal:** We write the components of the model in actual code.\n",
    "\n",
    "For the operations we picked, there function ready to use:\n",
    "* integration: `np.cumsum(data, axis=1)` (axis=1: per trial and over samples)\n",
    "* filtering: `my_moving_window(data, window)` (window: int, default 3)\n",
    "* take last `selfmotion` value as our estimate\n",
    "* threshold: if (value > thr): <operation 1> else: <operation 2>\n",
    "\n"
   ]
  },
  {
   "cell_type": "markdown",
   "metadata": {
    "colab_type": "text",
    "id": "omhHWHkXugkw"
   },
   "source": [
    "## TD 7.1: Write code to estimate self motion\n",
    "\n",
    "Use the operations to finish writing the function that will calculate an estimate of self motion. Fill in the descriptive list of items with actual operations. Use the function for estimating world-motion below, which we've filled for you!\n"
   ]
  },
  {
   "cell_type": "markdown",
   "metadata": {
    "colab_type": "text",
    "id": "JdcWus1uzSHt"
   },
   "source": [
    "### Exercise 1: finish self motion function"
   ]
  },
  {
   "cell_type": "code",
   "execution_count": 11,
   "metadata": {
    "cellView": "both",
    "colab": {},
    "colab_type": "code",
    "id": "TdoOVsfpla1e"
   },
   "outputs": [],
   "source": [
    "# Self motion function\n",
    "\n",
    "\n",
    "def my_selfmotion(ves, params):\n",
    "    \"\"\"\n",
    "    Estimates self motion for one vestibular signal\n",
    "\n",
    "    Args:\n",
    "        ves (numpy.ndarray): 1xM array with a vestibular signal\n",
    "        params (dict)      : dictionary with named entries:\n",
    "                             see my_train_illusion_model() for details\n",
    "\n",
    "    Returns:\n",
    "        (float)            : an estimate of self motion in m/s\n",
    "    \"\"\"\n",
    "\n",
    "    # uncomment the code below and fill in with your code\n",
    "\n",
    "    # 1. integrate vestibular signal\n",
    "    ves = np.cumsum(ves * (1 / params['samplingrate']))\n",
    "\n",
    "    # 2. running window function to accumulate evidence:\n",
    "        selfmotion = my_moving_window(ves, window=params[\"filterwindows\"][0])\n",
    "\n",
    "    # 3. take final value of self-motion vector as our estimate\n",
    "    selfmotion = selfmotion[-1]\n",
    "\n",
    "    # 4. compare to threshold. Hint the threshodl is stored in\n",
    "    if selfmotion < params['threshold']:\n",
    "        selfmotion = 0\n",
    "        \n",
    "    return selfmotion"
   ]
  },
  {
   "cell_type": "markdown",
   "metadata": {
    "colab_type": "text",
    "id": "iYeIMdhSWM7t"
   },
   "source": [
    "### Interactive Demo: Unit testing\n",
    "\n",
    "Testing if the functions you wrote do what they are supposed to do is important, and known as 'unit testing'. Here we will simplify this for the `my_selfmotion()` function, by allowing varying the threshold and window size with a slider, and seeing what the distribution of self-motion estimates looks like."
   ]
  },
  {
   "cell_type": "code",
   "execution_count": 12,
   "metadata": {
    "cellView": "form",
    "colab": {
     "base_uri": "https://localhost:8080/",
     "height": 494,
     "referenced_widgets": [
      "5efb0d194c974d6d8d55613aa1cb5446",
      "6af01fe5f871460caf2003051b39674c",
      "31ad16d6bf49476e93de8e0b9f8eddc1",
      "232122d1bf94446da8b4c129db489185",
      "5fcbd64b253347528bfcf34e6a54ce78",
      "dacf65be467f4806a9045f1c68324d88",
      "2debde13ab0d4a109ba157faf71b6806",
      "13cfbeebde7e4001b6787c157220f465",
      "f53b88bda1424c41b8dbd87be04b8e1f",
      "74594352167a4963a331fc44a526a3ad"
     ]
    },
    "colab_type": "code",
    "id": "Ap7DISEiWMhP",
    "outputId": "4d08f67e-0080-43e5-f175-1b7b076406df"
   },
   "outputs": [
    {
     "data": {
      "application/vnd.jupyter.widget-view+json": {
       "model_id": "731bcfbf5b9e4e94a4163a6786d6580d",
       "version_major": 2,
       "version_minor": 0
      },
      "text/plain": [
       "interactive(children=(FloatSlider(value=0.0, description='threshold', max=2.0, min=-1.0, step=0.01), IntSlider…"
      ]
     },
     "metadata": {},
     "output_type": "display_data"
    }
   ],
   "source": [
    "#@title\n",
    "\n",
    "#@markdown Make sure you execute this cell to enable the widget!\n",
    "\n",
    "def refresh(threshold=0, windowsize=100):\n",
    "\n",
    "    params = {'samplingrate': 10, 'FUN': np.mean}\n",
    "    params['filterwindows'] = [windowsize, 50]\n",
    "    params['threshold'] = threshold\n",
    "\n",
    "    selfmotion_estimates = np.empty(200)\n",
    "\n",
    "    # get the estimates for each trial:\n",
    "    for trial_number in range(200):\n",
    "        ves = vestibular[trial_number, :]\n",
    "        selfmotion_estimates[trial_number] = my_selfmotion(ves, params)\n",
    "\n",
    "    plt.figure()\n",
    "    plt.hist(selfmotion_estimates, bins=20)\n",
    "    plt.xlabel('self-motion estimate')\n",
    "    plt.ylabel('frequency')\n",
    "    plt.show()\n",
    "\n",
    "\n",
    "_ = widgets.interact(refresh, threshold=(-1, 2, .01), windowsize=(1, 100, 1))"
   ]
  },
  {
   "cell_type": "markdown",
   "metadata": {
    "colab_type": "text",
    "id": "rDWyfXQyt2Um"
   },
   "source": [
    "**Estimate world motion**\n",
    "\n",
    "We have completed the `my_worldmotion()` function for you below.\n",
    "\n"
   ]
  },
  {
   "cell_type": "code",
   "execution_count": 45,
   "metadata": {
    "cellView": "both",
    "colab": {},
    "colab_type": "code",
    "id": "3sWacz4At9Ma"
   },
   "outputs": [],
   "source": [
    "# World motion function\n",
    "def my_worldmotion(vis, selfmotion, params):\n",
    "    \"\"\"\n",
    "    Short description of the function\n",
    "\n",
    "    Args:\n",
    "        vis (numpy.ndarray): 1xM array with the optic flow signal\n",
    "        selfmotion (float): estimate of self motion\n",
    "        params (dict): dictionary with named entries:\n",
    "            see my_train_illusion_model() for details\n",
    "\n",
    "    Returns:\n",
    "        (float): an estimate of world motion in m/s\n",
    "    \"\"\"\n",
    "\n",
    "    # running average to smooth/accumulate sensory evidence\n",
    "    visualmotion = my_moving_window(vis, window=params['filterwindows'][1],\n",
    "                                    FUN=np.mean)\n",
    "\n",
    "    # take final value\n",
    "    visualmotion = visualmotion[-1]\n",
    "\n",
    "    # subtract selfmotion from value\n",
    "    worldmotion = visualmotion + selfmotion\n",
    "\n",
    "    # return final value\n",
    "    return worldmotion"
   ]
  },
  {
   "cell_type": "markdown",
   "metadata": {
    "colab_type": "text",
    "id": "CKXdgsGSGh1R"
   },
   "source": [
    "---\n",
    "# Section 8: Model completion"
   ]
  },
  {
   "cell_type": "code",
   "execution_count": 46,
   "metadata": {
    "cellView": "form",
    "colab": {
     "base_uri": "https://localhost:8080/",
     "height": 518
    },
    "colab_type": "code",
    "id": "4k9Dnf36EYC-",
    "outputId": "fd8843d9-7924-46f3-db79-8b5660f09153"
   },
   "outputs": [
    {
     "name": "stdout",
     "output_type": "stream",
     "text": [
      "Video available at https://youtube.com/watch?v=EM-G8YYdrDg\n"
     ]
    },
    {
     "data": {
      "image/jpeg": "[encoded data removed]",
      "text/html": [
       "\n",
       "        <iframe\n",
       "            width=\"854\"\n",
       "            height=\"480\"\n",
       "            src=\"https://www.youtube.com/embed/EM-G8YYdrDg?fs=1\"\n",
       "            frameborder=\"0\"\n",
       "            allowfullscreen\n",
       "        ></iframe>\n",
       "        "
      ],
      "text/plain": [
       "<IPython.lib.display.YouTubeVideo at 0x1f953d307b8>"
      ]
     },
     "execution_count": 46,
     "metadata": {},
     "output_type": "execute_result"
    }
   ],
   "source": [
    "# @title Video 8: Completion\n",
    "video = YouTubeVideo(id='EM-G8YYdrDg', width=854, height=480, fs=1)\n",
    "print(f\"Video available at https://youtube.com/watch?v={video.id}\")\n",
    "video"
   ]
  },
  {
   "cell_type": "markdown",
   "metadata": {
    "colab_type": "text",
    "id": "wPQh7JMW2crO"
   },
   "source": [
    "\n",
    "**Goal:** Make sure the model can speak to the hypothesis. Eliminate all the parameters that do not speak to the hypothesis.\n",
    "\n",
    "Now that we have a working model, we can keep improving it, but at some point we need to decide that it is finished. Once we have a model that displays the properties of a system we are interested in, it should be possible to say something about our hypothesis and question. Keeping the model simple makes it easier to understand the phenomenon and answer the research question. Here that means that our model should have illusory perception, and perhaps make similar judgments to those of the participants, but not much more.\n",
    "\n",
    "To test this, we will run the model, store the output and plot the models' perceived self motion over perceived world motion, like we did with the actual perceptual judgments (it even uses the same plotting function).\n",
    "\n",
    "## TD 8.1: See if the model produces illusions"
   ]
  },
  {
   "cell_type": "code",
   "execution_count": 47,
   "metadata": {
    "cellView": "form",
    "colab": {
     "base_uri": "https://localhost:8080/",
     "height": 574
    },
    "colab_type": "code",
    "id": "14bGdwxX3mk1",
    "outputId": "d5ba8d35-0bed-4106-9a6b-0a2928060ae4"
   },
   "outputs": [
    {
     "data": {
      "image/png": "[encoded data removed]",
      "text/plain": [
       "<Figure size 576x576 with 1 Axes>"
      ]
     },
     "metadata": {
      "image/png": {
       "height": 558,
       "width": 558
      },
      "needs_background": "light"
     },
     "output_type": "display_data"
    }
   ],
   "source": [
    "# @markdown Run to plot model predictions of motion estimates\n",
    "# prepare to run the model again:\n",
    "data = {'opticflow': opticflow, 'vestibular': vestibular}\n",
    "params = {'threshold': 0.6, 'filterwindows': [100, 50], 'FUN': np.mean}\n",
    "modelpredictions = my_train_illusion_model(sensorydata=data, params=params)\n",
    "\n",
    "# process the data to allow plotting...\n",
    "predictions = np.zeros(judgments.shape)\n",
    "predictions[:, 0:3] = judgments[:, 0:3]\n",
    "predictions[:, 3] = modelpredictions['selfmotion']\n",
    "predictions[:, 4] = modelpredictions['worldmotion'] * -1\n",
    "my_plot_percepts(datasets={'predictions': predictions}, plotconditions=True)"
   ]
  },
  {
   "cell_type": "markdown",
   "metadata": {
    "colab_type": "text",
    "id": "ughghdXV5bhv"
   },
   "source": [
    "**Questions:**\n",
    "\n",
    "* How does the distribution of data points compare to the plot in TD 1.2 or in TD 7.1?\n",
    "* Did you expect to see this?\n",
    "* Where do the model's predicted judgments for each of the two conditions fall?\n",
    "* How does this compare to the behavioral data?\n",
    "\n",
    "However, the main observation should be that **there are illusions**: the blue and red data points are mixed in each of the two clusters of data points. This mean the model can help us understand the phenomenon."
   ]
  },
  {
   "cell_type": "markdown",
   "metadata": {
    "colab_type": "text",
    "id": "-Esgpp-5GlJY"
   },
   "source": [
    "---\n",
    "# Section 9: Model evaluation"
   ]
  },
  {
   "cell_type": "code",
   "execution_count": 48,
   "metadata": {
    "cellView": "form",
    "colab": {
     "base_uri": "https://localhost:8080/",
     "height": 518
    },
    "colab_type": "code",
    "id": "a6GK1G7qbmg1",
    "outputId": "fb8e30d6-7876-4235-8ec8-99831fb70131"
   },
   "outputs": [
    {
     "name": "stdout",
     "output_type": "stream",
     "text": [
      "Video available at https://youtube.com/watch?v=bWLFyobm4Rk\n"
     ]
    },
    {
     "data": {
      "image/jpeg": "[encoded data removed]",
      "text/html": [
       "\n",
       "        <iframe\n",
       "            width=\"854\"\n",
       "            height=\"480\"\n",
       "            src=\"https://www.youtube.com/embed/bWLFyobm4Rk?fs=1\"\n",
       "            frameborder=\"0\"\n",
       "            allowfullscreen\n",
       "        ></iframe>\n",
       "        "
      ],
      "text/plain": [
       "<IPython.lib.display.YouTubeVideo at 0x1f9579d9ba8>"
      ]
     },
     "execution_count": 48,
     "metadata": {},
     "output_type": "execute_result"
    }
   ],
   "source": [
    "# @title Video 9: Evaluation\n",
    "video = YouTubeVideo(id='bWLFyobm4Rk', width=854, height=480, fs=1)\n",
    "print(f\"Video available at https://youtube.com/watch?v={video.id}\")\n",
    "video"
   ]
  },
  {
   "cell_type": "markdown",
   "metadata": {
    "colab_type": "text",
    "id": "K6nzpSVyWUJK"
   },
   "source": [
    "\n",
    "**Goal:** Once we have finished the model, we need a description of how good it is. The question and goals we set in micro-tutorial 1 and 4 help here. There are multiple ways to evaluate a model. Aside from the obvious fact that we want to get insight into the phenomenon that is not directly accessible without the model, we always want to quantify how well the model agrees with the data.\n",
    "\n",
    "**Quantify model quality with $R^2$**\n",
    "\n",
    "Let's look at how well our model matches the actual judgment data."
   ]
  },
  {
   "cell_type": "code",
   "execution_count": 49,
   "metadata": {
    "cellView": "form",
    "colab": {
     "base_uri": "https://localhost:8080/",
     "height": 357
    },
    "colab_type": "code",
    "id": "PYgVPkSVla1-",
    "outputId": "87e95e55-f43f-453c-8155-e8fe473b92d7"
   },
   "outputs": [
    {
     "data": {
      "image/png": "[encoded data removed]",
      "text/plain": [
       "<Figure size 864x360 with 2 Axes>"
      ]
     },
     "metadata": {
      "image/png": {
       "height": 341,
       "width": 845
      },
      "needs_background": "light"
     },
     "output_type": "display_data"
    }
   ],
   "source": [
    "# @markdown Run to plot predictions over data\n",
    "my_plot_predictions_data(judgments, predictions)"
   ]
  },
  {
   "cell_type": "markdown",
   "metadata": {
    "colab_type": "text",
    "id": "CznDTrrRDiME"
   },
   "source": [
    "When model predictions are correct, the red points in the figure above should lie along the identity line (a dotted black line here). Points off the identity line represent model prediction errors. While in each plot we see two clusters of dots that are fairly close to the identity line, there are also two clusters that are not. For the trials that those points represent, the model has an illusion while the participants don't or vice versa.\n",
    "\n",
    "We will use a straightforward, quantitative measure of how good the model is: $R^2$ (pronounced: \"R-squared\"), which can take values between 0 and 1, and expresses how much variance is explained by the relationship between two variables (here the model's predictions and the actual judgments). It is also called [coefficient of determination](https://en.wikipedia.org/wiki/Coefficient_of_determination), and is calculated here as the square of the correlation coefficient (r or $\\rho$). Just run the chunk below:"
   ]
  },
  {
   "cell_type": "code",
   "execution_count": 50,
   "metadata": {
    "cellView": "both",
    "colab": {
     "base_uri": "https://localhost:8080/",
     "height": 52
    },
    "colab_type": "code",
    "id": "efPMYHLVC0XN",
    "outputId": "3dfc1def-6f27-439e-8b09-3352ec47ad88"
   },
   "outputs": [
    {
     "name": "stdout",
     "output_type": "stream",
     "text": [
      "conditions -> judgments R^2: 0.032\n",
      "predictions -> judgments R^2: 0.256\n"
     ]
    }
   ],
   "source": [
    "# @markdown Run to calculate R^2\n",
    "conditions = np.concatenate((np.abs(judgments[:, 1]), np.abs(judgments[:, 2])))\n",
    "veljudgmnt = np.concatenate((judgments[:, 3], judgments[:, 4]))\n",
    "velpredict = np.concatenate((predictions[:, 3], predictions[:, 4]))\n",
    "\n",
    "slope, intercept, r_value,\\\n",
    "  p_value, std_err = stats.linregress(conditions, veljudgmnt)\n",
    "print(f\"conditions -> judgments R^2: {r_value ** 2:0.3f}\")\n",
    "\n",
    "slope, intercept, r_value,\\\n",
    "  p_value, std_err = stats.linregress(veljudgmnt, velpredict)\n",
    "print(f\"predictions -> judgments R^2: {r_value ** 2:0.3f}\")\n"
   ]
  },
  {
   "cell_type": "markdown",
   "metadata": {
    "colab_type": "text",
    "id": "l2naIlvUW09i"
   },
   "source": [
    "These $R^2$s express how well the experimental conditions explain the participants judgments and how well the models predicted judgments explain the participants judgments.\n",
    "\n",
    "You will learn much more about model fitting, quantitative model evaluation and model comparison tomorrow!\n",
    "\n",
    "Perhaps the $R^2$ values don't seem very impressive, but the judgments produced by the participants are explained by the model's predictions better than by the actual conditions. In other words: in a certain percentage of cases the model tends to have the same illusions as the participants."
   ]
  },
  {
   "cell_type": "markdown",
   "metadata": {
    "colab_type": "text",
    "id": "DEWF_i_6H2IM"
   },
   "source": [
    "## TD 9.1 Varying the threshold parameter to improve the model\n",
    "\n",
    "In the code below, see if you can find a better value for the threshold parameter, to reduce errors in the models' predictions.\n",
    "\n",
    "**Testing thresholds**"
   ]
  },
  {
   "cell_type": "markdown",
   "metadata": {
    "colab_type": "text",
    "id": "qdgSQlxcCHII"
   },
   "source": [
    "\n",
    "### Interactive Demo: optimizing the model"
   ]
  },
  {
   "cell_type": "code",
   "execution_count": 51,
   "metadata": {
    "cellView": "form",
    "colab": {
     "base_uri": "https://localhost:8080/",
     "height": 440,
     "referenced_widgets": [
      "c7f83b98b1394a77902319a0df78ca98",
      "ecb3566e99f049b79ec44cb4658a001d",
      "cb9838d308ba4e8180744827a37f3ca9",
      "60089b5b211e48dcb2c5682d917338bd",
      "3f5553d326cd498c93ffa11e14f2a936",
      "ae0c3fc7fcd642c391c9f91e6efb0f20",
      "78db7cc433564936a34d17039bd5dae1",
      "d3107c38e20c4d85a8a5160748e7a530",
      "ce2c9d246e2a499c92877706b7f5813d",
      "29091dd359d14b2c87f00b0e29e306e1"
     ]
    },
    "colab_type": "code",
    "id": "dFWnLsVroMC4",
    "outputId": "8e25e7db-cdc2-4c81-abd6-3de3b6e85652"
   },
   "outputs": [
    {
     "data": {
      "application/vnd.jupyter.widget-view+json": {
       "model_id": "96c262db68544313a6e2c48e00d19300",
       "version_major": 2,
       "version_minor": 0
      },
      "text/plain": [
       "interactive(children=(FloatSlider(value=0.0, description='threshold', max=2.0, min=-1.0, step=0.01), IntSlider…"
      ]
     },
     "metadata": {},
     "output_type": "display_data"
    }
   ],
   "source": [
    "#@title\n",
    "\n",
    "#@markdown Make sure you execute this cell to enable the widget!\n",
    "\n",
    "data = {'opticflow': opticflow, 'vestibular': vestibular}\n",
    "\n",
    "\n",
    "def refresh(threshold=0, windowsize=100):\n",
    "\n",
    "    # set parameters according to sliders:\n",
    "    params = {'samplingrate': 10, 'FUN': np.mean}\n",
    "    params['filterwindows'] = [windowsize, 50]\n",
    "    params['threshold'] = threshold\n",
    "\n",
    "    modelpredictions = my_train_illusion_model(sensorydata=data, params=params)\n",
    "\n",
    "    predictions = np.zeros(judgments.shape)\n",
    "    predictions[:, 0:3] = judgments[:, 0:3]\n",
    "    predictions[:, 3] = modelpredictions['selfmotion']\n",
    "    predictions[:, 4] = modelpredictions['worldmotion'] * -1\n",
    "\n",
    "    # plot the predictions:\n",
    "    my_plot_predictions_data(judgments, predictions)\n",
    "\n",
    "    # calculate R2\n",
    "    veljudgmnt = np.concatenate((judgments[:, 3], judgments[:, 4]))\n",
    "    velpredict = np.concatenate((predictions[:, 3], predictions[:, 4]))\n",
    "    slope, intercept, r_value,\\\n",
    "      p_value, std_err = stats.linregress(veljudgmnt, velpredict)\n",
    "\n",
    "    print(f\"predictions -> judgments R^2: {r_value ** 2:0.3f}\")\n",
    "\n",
    "\n",
    "_ = widgets.interact(refresh, threshold=(-1, 2, .01), windowsize=(1, 100, 1))"
   ]
  },
  {
   "cell_type": "markdown",
   "metadata": {
    "colab_type": "text",
    "id": "WQ-OFbmlrson"
   },
   "source": [
    "Varying the parameters this way, allows you to increase the models' performance in predicting the actual data as measured by $R^2$. This is called model fitting, and will be done better in the coming weeks."
   ]
  },
  {
   "cell_type": "markdown",
   "metadata": {
    "colab_type": "text",
    "id": "G3qg0wEJyxkq"
   },
   "source": [
    "## TD 9.2: Credit assigmnent of self motion\n",
    "\n",
    "When we look at the figure in **TD 8.1**, we can see a cluster does seem very close to (1,0), just like in the actual data. The cluster of points at (1,0) are from the case where we conclude there is no self motion, and then set the self motion to 0. That value of 0 removes a lot of noise from the world-motion estimates, and all noise from the self-motion estimate. In the other case, where there is self motion, we still have a lot of noise (see also micro-tutorial 4).\n",
    "\n",
    "Let's change our `my_selfmotion()` function to return a self motion of 1 when the vestibular signal indicates we are above threshold, and 0 when we are below threshold. Edit the function here."
   ]
  },
  {
   "cell_type": "markdown",
   "metadata": {
    "colab_type": "text",
    "id": "r4WEzcn0vXTY"
   },
   "source": [
    "### Exercise 2: function for credit assigment of self motion"
   ]
  },
  {
   "cell_type": "code",
   "execution_count": 52,
   "metadata": {
    "cellView": "both",
    "colab": {},
    "colab_type": "code",
    "id": "2D9wLipTy4F2"
   },
   "outputs": [],
   "source": [
    "def my_selfmotion(ves, params):\n",
    "    \"\"\"\n",
    "    Estimates self motion for one vestibular signal\n",
    "\n",
    "    Args:\n",
    "        ves (numpy.ndarray): 1xM array with a vestibular signal\n",
    "        params (dict): dictionary with named entries:\n",
    "            see my_train_illusion_model() for details\n",
    "\n",
    "    Returns:\n",
    "        (float): an estimate of self motion in m/s\n",
    "    \"\"\"\n",
    "\n",
    "    # integrate signal:\n",
    "    ves = np.cumsum(ves * (1 / params['samplingrate']))\n",
    "\n",
    "    # use running window to accumulate evidence:\n",
    "    selfmotion = my_moving_window(ves, window=params['filterwindows'][0],\n",
    "                                  FUN=params['FUN'])\n",
    "\n",
    "    # take the final value as our estimate:\n",
    "    selfmotion = selfmotion[-1]\n",
    "\n",
    "    # compare to threshold, set to 0 if lower and else...\n",
    "    if selfmotion < params['threshold']:\n",
    "        selfmotion = 0\n",
    "    ###########################################################################\n",
    "    # Exercise: Complete credit assignment. Remove the next line to test your function\n",
    "    else:\n",
    "       selfmotion = ... #YOUR CODE HERE\n",
    "\n",
    "    raise NotImplementedError(\"Modify with credit assignment\")\n",
    "    ###########################################################################\n",
    "\n",
    "    return selfmotion\n",
    "\n",
    "# Use the updated function to run the model and plot the data\n",
    "# Uncomment below to test your function \n",
    "data = {'opticflow': opticflow, 'vestibular': vestibular}\n",
    "params = {'threshold': 0.33, 'filterwindows': [100, 50], 'FUN': np.mean}\n",
    "#modelpredictions = my_train_illusion_model(sensorydata=data, params=params)\n",
    "\n",
    "predictions = np.zeros(judgments.shape)\n",
    "predictions[:, 0:3] = judgments[:, 0:3]\n",
    "predictions[:, 3] = modelpredictions['selfmotion']\n",
    "predictions[:, 4] = modelpredictions['worldmotion'] * -1\n",
    "#my_plot_percepts(datasets={'predictions': predictions}, plotconditions=False)"
   ]
  },
  {
   "cell_type": "code",
   "execution_count": 54,
   "metadata": {
    "cellView": "both",
    "colab": {
     "base_uri": "https://localhost:8080/",
     "height": 576
    },
    "colab_type": "code",
    "id": "CyCeKL7mGACI",
    "outputId": "fe5989f6-c0a7-41be-c028-e6d403ecf52f"
   },
   "outputs": [
    {
     "data": {
      "image/png": "[encoded data removed]",
      "text/plain": [
       "<Figure size 576x576 with 1 Axes>"
      ]
     },
     "metadata": {
      "image/png": {
       "height": 558,
       "width": 558
      },
      "needs_background": "light"
     },
     "output_type": "display_data"
    }
   ],
   "source": [
    "# to_remove solution\n",
    "def my_selfmotion(ves, params):\n",
    "    \"\"\"\n",
    "    Estimates self motion for one vestibular signal\n",
    "\n",
    "    Args:\n",
    "        ves (numpy.ndarray): 1xM array with a vestibular signal\n",
    "        params (dict): dictionary with named entries:\n",
    "            see my_train_illusion_model() for details\n",
    "\n",
    "    Returns:\n",
    "        (float): an estimate of self motion in m/s\n",
    "    \"\"\"\n",
    "\n",
    "    # integrate signal:\n",
    "    ves = np.cumsum(ves * (1 / params['samplingrate']))\n",
    "\n",
    "    # use running window to accumulate evidence:\n",
    "    selfmotion = my_moving_window(ves, window=params['filterwindows'][0],\n",
    "                                  FUN=params['FUN'])\n",
    "\n",
    "    # final value:\n",
    "    selfmotion = selfmotion[-1]\n",
    "\n",
    "    # compare to threshold, set to 0 if lower\n",
    "    if selfmotion < params['threshold']:\n",
    "        selfmotion = 0\n",
    "    else:\n",
    "        selfmotion = 1\n",
    "\n",
    "    return selfmotion\n",
    "\n",
    "# Use the updated function to run the model and plot the data\n",
    "# Uncomment below to test your function \n",
    "data = {'opticflow': opticflow, 'vestibular': vestibular}\n",
    "params = {'threshold': 0.33, 'filterwindows': [100, 50], 'FUN': np.mean}\n",
    "modelpredictions = my_train_illusion_model(sensorydata=data, params=params)\n",
    "\n",
    "predictions = np.zeros(judgments.shape)\n",
    "predictions[:, 0:3] = judgments[:, 0:3]\n",
    "predictions[:, 3] = modelpredictions['selfmotion']\n",
    "predictions[:, 4] = modelpredictions['worldmotion'] * -1\n",
    "my_plot_percepts(datasets={'predictions': predictions}, plotconditions=False)    "
   ]
  },
  {
   "cell_type": "markdown",
   "metadata": {
    "colab_type": "text",
    "id": "dddNTNQ8GpfT"
   },
   "source": [
    "That looks much better, and closer to the actual data. Let's see if the $R^2$ values have improved. Use the optimal values for the threshold and window size that you found previously.\n",
    "\n",
    "### Interactive Demo: evaluating the model"
   ]
  },
  {
   "cell_type": "code",
   "execution_count": 55,
   "metadata": {
    "cellView": "form",
    "colab": {
     "base_uri": "https://localhost:8080/",
     "height": 440,
     "referenced_widgets": [
      "f7d4bc8cf28a4f61a643938a6d7056be",
      "4c15d89a25c548e8b1c5909206a9026b",
      "a6b148b4c0574394bce35d7b439a4063",
      "df0488c1a71a4e3c9b329d00cb995a6d",
      "5c5a025359194372ade6c791f5f5be37",
      "d0827d5004d04bb3bc82b570e6efde51",
      "3e1afcec2d5843f282389ed9849ed78d",
      "f0381d98b6ad4a4cb44a1193a3342e85",
      "cb9e41df387c487daf57a8ebfde8b323",
      "7ad393b23e5644a0a15d707928bc0248"
     ]
    },
    "colab_type": "code",
    "id": "CdzQtFWOGzly",
    "outputId": "cb8e3726-55e6-4c7c-d4f6-4f15aabb87d7"
   },
   "outputs": [
    {
     "data": {
      "application/vnd.jupyter.widget-view+json": {
       "model_id": "8258786f31b74ad186a3c2a0bf01cae2",
       "version_major": 2,
       "version_minor": 0
      },
      "text/plain": [
       "interactive(children=(FloatSlider(value=0.0, description='threshold', max=2.0, min=-1.0, step=0.01), IntSlider…"
      ]
     },
     "metadata": {},
     "output_type": "display_data"
    }
   ],
   "source": [
    "#@title\n",
    "\n",
    "#@markdown Make sure you execute this cell to enable the widget!\n",
    "\n",
    "data = {'opticflow': opticflow, 'vestibular': vestibular}\n",
    "\n",
    "\n",
    "def refresh(threshold=0, windowsize=100):\n",
    "\n",
    "    # set parameters according to sliders:\n",
    "    params = {'samplingrate': 10, 'FUN': np.mean}\n",
    "    params['filterwindows'] = [windowsize, 50]\n",
    "    params['threshold'] = threshold\n",
    "\n",
    "    modelpredictions = my_train_illusion_model(sensorydata=data, params=params)\n",
    "\n",
    "    predictions = np.zeros(judgments.shape)\n",
    "    predictions[:, 0:3] = judgments[:, 0:3]\n",
    "    predictions[:, 3] = modelpredictions['selfmotion']\n",
    "    predictions[:, 4] = modelpredictions['worldmotion'] * -1\n",
    "\n",
    "    # plot the predictions:\n",
    "    my_plot_predictions_data(judgments, predictions)\n",
    "\n",
    "    # calculate R2\n",
    "    veljudgmnt = np.concatenate((judgments[:, 3], judgments[:, 4]))\n",
    "    velpredict = np.concatenate((predictions[:, 3], predictions[:, 4]))\n",
    "    slope, intercept, r_value,\\\n",
    "      p_value, std_err = stats.linregress(veljudgmnt, velpredict)\n",
    "\n",
    "    print(f\"predictions -> judgments R2: {r_value ** 2:0.3f}\")\n",
    "\n",
    "\n",
    "_ = widgets.interact(refresh, threshold=(-1, 2, .01), windowsize=(1, 100, 1))"
   ]
  },
  {
   "cell_type": "markdown",
   "metadata": {
    "colab_type": "text",
    "id": "ynx87xTs17W3"
   },
   "source": [
    "While the model still predicts velocity judgments better than the conditions (i.e. the model predicts illusions in somewhat similar cases), the $R^2$ values are a little worse than those of the simpler model. What's really going on is that the same set of points that were model prediction errors in the previous model are also errors here. All we have done is reduce the spread."
   ]
  },
  {
   "cell_type": "markdown",
   "metadata": {
    "colab_type": "text",
    "id": "iQniQk3Dyq-c"
   },
   "source": [
    "**Interpret the model's meaning**\n",
    "\n",
    "Here's what you should have learned from model the train illusion: \n",
    "\n",
    "1. A noisy, vestibular, acceleration signal can give rise to illusory motion.\n",
    "2. However, disambiguating the optic flow by adding the vestibular signal simply adds a lot of noise. This is not a plausible thing for the brain to do.\n",
    "3. Our other hypothesis - credit assignment - is more qualitatively correct, but our simulations were not able to match the frequency of the illusion on a trial-by-trial basis.\n",
    "\n",
    "We decided that for now we have learned enough, so it's time to write it up.\n"
   ]
  },
  {
   "cell_type": "markdown",
   "metadata": {
    "colab_type": "text",
    "id": "THERtRx9Gn7s"
   },
   "source": [
    "---\n",
    "# Section 10: Model publication!"
   ]
  },
  {
   "cell_type": "code",
   "execution_count": null,
   "metadata": {
    "cellView": "form",
    "colab": {
     "base_uri": "https://localhost:8080/",
     "height": 518
    },
    "colab_type": "code",
    "id": "2HD5Ve1GFDRG",
    "outputId": "876149c2-e1f0-4fa1-8e7c-d4e9dfb48302"
   },
   "outputs": [],
   "source": [
    "# @title Video 10: Publication\n",
    "video = YouTubeVideo(id='zm8x7oegN6Q', width=854, height=480, fs=1)\n",
    "print(f\"Video available at https://youtube.com/watch?v={video.id}\")\n",
    "video"
   ]
  },
  {
   "cell_type": "markdown",
   "metadata": {
    "colab_type": "text",
    "id": "suhFBllXULWb"
   },
   "source": [
    "\n",
    "**Goal:** In order for our model to impact the field, it needs to be accepted by our peers, and order for that to happen it matters how the model is published."
   ]
  },
  {
   "cell_type": "markdown",
   "metadata": {
    "colab_type": "text",
    "id": "WfFajjVDla2E"
   },
   "source": [
    "## TD 10.1: Write a summary of the project\n",
    "\n",
    "Here we will write up our model, by answering the following questions:\n",
    "* **What is the phenomena**?  Here summarize the part of the phenomena which your model addresses.\n",
    "* **What is the key scientific question?**:  Clearly articulate the question which your model tries to answer.\n",
    "* **What was our hypothesis?**:  Explain the key relationships which we relied on to simulate the phenomena.\n",
    "* **How did your model work?** Give an overview of the model, it's main components, and how the model works.  ''Here we ... ''\n",
    "* **What did we find? Did the model work?** Explain the key outcomes of your model evaluation. \n",
    "* **What can we conclude?** Conclude as much as you can _with reference to the hypothesis_, within the limits of the model.  \n",
    "* **What did you learn? What is left to be learned?** Briefly argue the plausibility of the approach and what you think is _essential_ that may have been left out.\n",
    "\n",
    "### Guidance for the future\n",
    "There are good guidelines for structuring and writing an effective paper (e.g., [Mensh & Kording, 2017](https://doi.org/10.1371/journal.pcbi.1005619)), all of which apply to papers about models. There are some extra considerations when publishing a model. In general, you should explain each of the steps in the paper:\n",
    "\n",
    "**Introduction:** Steps 1 & 2 (maybe 3)\n",
    "\n",
    "**Methods:** Steps 3-7, 9\n",
    "\n",
    "**Results:** Steps 8 & 9, going back to 1, 2 & 4\n",
    "\n",
    "In addition, you should provide a visualization of the model, and upload the code implementing the model and the data it was trained and tested on to a repository (e.g. GitHub and OSF).\n",
    "\n",
    "The audience for all of this should be experimentalists, as they are the ones who can test predictions made by your your model and collect new data. This way your models can impact future experiments, and that future data can then be modeled (see modeling process schematic below). Remember your audience - it is _always_ hard to clearly convey the main points of your work to others, especially if your audience doesn't necessarily create computational models themselves.\n",
    "\n",
    "![how-to-model process from Blohm et al 2019](https://raw.githubusercontent.com/NeuromatchAcademy/course-content/master/tutorials/W1D2_ModelingPractice/static/NMA-W1D2-fig06.png)\n",
    "\n",
    "### Suggestion\n",
    "\n",
    "For every modeling project, a very good exercise in this is to _**first**_ write a short, 100-word abstract of the project plan and expected impact, like the summary you wrote. This forces focussing on the main points: describing the relevance, question, model, answer and what it all means very succinctly. This allows you to decide to do this project or not **before you commit time writing code for no good purpose**. Notice that this is really what we've walked you through carefully in this tutorial! :)\n"
   ]
  },
  {
   "cell_type": "markdown",
   "metadata": {
    "colab_type": "text",
    "id": "SgAvh4Kg2tA3"
   },
   "source": [
    "---\n",
    "# Summary\n",
    "Confatulations! You have finished Day2 of NMA! In this tutorial, we worked through the rest steps of the process of modeling.\n",
    "\n",
    "- We identified the key components of the model, and examined how they work together (step 6)\n",
    "- We implemented the model (step 7), and completed it (step 8)\n",
    "- We tested and evaluated our model (step 9), and finally\n",
    "- We learn how to publish our model in order to increase its visibility amongts our peers\n",
    "\n",
    "## Post-script\n",
    "\n",
    "Note that the model we built here was extremely simple and used artificial data on purpose. It allowed us to go through all the steps of building a model, and hopefully you noticed that it is not always a linear process, you will go back to different steps if you hit a roadblock somewhere.\n",
    "\n",
    "However, if you're interested in how to actually approach modeling a similar phenomenon in a probabilistic way, we encourage you to read the paper by [Dokka et. al., 2019](https://doi.org/10.1073/pnas.1820373116), where the authors model how judgments of heading direction are influenced by objects that are also moving."
   ]
  },
  {
   "cell_type": "markdown",
   "metadata": {
    "colab_type": "text",
    "id": "41UU4oWvRmo6"
   },
   "source": [
    "---\n",
    "# Reading\n",
    "\n",
    "Blohm G, Kording KP, Schrater PR (2020). _A How-to-Model Guide for Neuroscience_ eNeuro, 7(1). https://doi.org/10.1523/ENEURO.0352-19.2019 \n",
    "\n",
    "Dokka K, Park H, Jansen M, DeAngelis GC, Angelaki DE (2019). _Causal inference accounts for heading perception in the presence of object motion._ PNAS, 116(18):9060-9065. https://doi.org/10.1073/pnas.1820373116\n",
    "\n",
    "Drugowitsch J, DeAngelis GC, Klier EM, Angelaki DE, Pouget A (2014). _Optimal Multisensory Decision-Making in a Reaction-Time Task._ eLife, 3:e03005. https://doi.org/10.7554/eLife.03005\n",
    "\n",
    "Hartmann, M, Haller K, Moser I, Hossner E-J, Mast FW  (2014). _Direction detection thresholds of passive self-motion in artistic gymnasts._ Exp Brain Res, 232:1249–1258. https://doi.org/10.1007/s00221-014-3841-0\n",
    "\n",
    "Mensh B, Kording K (2017). _Ten simple rules for structuring papers._ PLOS Comput Biol 13(9): e1005619. https://doi.org/10.1371/journal.pcbi.1005619\n",
    "\n",
    "Seno T, Fukuda H (2012). _Stimulus Meanings Alter Illusory Self-Motion (Vection) - Experimental Examination of the Train Illusion._ Seeing Perceiving, 25(6):631-45. https://doi.org/10.1163/18784763-00002394\n"
   ]
  }
 ],
 "metadata": {
  "colab": {
   "collapsed_sections": [],
   "include_colab_link": true,
   "name": "NeuromatchAcademy_W1D2_Tutorial2",
   "provenance": [],
   "toc_visible": true
  },
  "kernelspec": {
   "display_name": "Python 3",
   "language": "python",
   "name": "python3"
  },
  "language_info": {
   "codemirror_mode": {
    "name": "ipython",
    "version": 3
   },
   "file_extension": ".py",
   "mimetype": "text/x-python",
   "name": "python",
   "nbconvert_exporter": "python",
   "pygments_lexer": "ipython3",
   "version": "3.6.8"
  },
  "widgets": {
   "application/vnd.jupyter.widget-state+json": {
    "state": {
     "03fe23aa140a4d829ab23861b5c4a0ce": {
      "model_module": "@jupyter-widgets/base",
      "model_module_version": "1.2.0",
      "model_name": "LayoutModel",
      "state": {
       "_model_module": "@jupyter-widgets/base",
       "_model_module_version": "1.2.0",
       "_model_name": "LayoutModel",
       "_view_count": null,
       "_view_module": "@jupyter-widgets/base",
       "_view_module_version": "1.2.0",
       "_view_name": "LayoutView",
       "align_content": null,
       "align_items": null,
       "align_self": null,
       "border": null,
       "bottom": null,
       "display": null,
       "flex": null,
       "flex_flow": null,
       "grid_area": null,
       "grid_auto_columns": null,
       "grid_auto_flow": null,
       "grid_auto_rows": null,
       "grid_column": null,
       "grid_gap": null,
       "grid_row": null,
       "grid_template_areas": null,
       "grid_template_columns": null,
       "grid_template_rows": null,
       "height": null,
       "justify_content": null,
       "justify_items": null,
       "left": null,
       "margin": null,
       "max_height": null,
       "max_width": null,
       "min_height": null,
       "min_width": null,
       "object_fit": null,
       "object_position": null,
       "order": null,
       "overflow": null,
       "overflow_x": null,
       "overflow_y": null,
       "padding": null,
       "right": null,
       "top": null,
       "visibility": null,
       "width": null
      }
     },
     "045874224dfe456d871084c87359512f": {
      "model_module": "@jupyter-widgets/base",
      "model_module_version": "1.2.0",
      "model_name": "LayoutModel",
      "state": {
       "_model_module": "@jupyter-widgets/base",
       "_model_module_version": "1.2.0",
       "_model_name": "LayoutModel",
       "_view_count": null,
       "_view_module": "@jupyter-widgets/base",
       "_view_module_version": "1.2.0",
       "_view_name": "LayoutView",
       "align_content": null,
       "align_items": null,
       "align_self": null,
       "border": null,
       "bottom": null,
       "display": null,
       "flex": null,
       "flex_flow": null,
       "grid_area": null,
       "grid_auto_columns": null,
       "grid_auto_flow": null,
       "grid_auto_rows": null,
       "grid_column": null,
       "grid_gap": null,
       "grid_row": null,
       "grid_template_areas": null,
       "grid_template_columns": null,
       "grid_template_rows": null,
       "height": null,
       "justify_content": null,
       "justify_items": null,
       "left": null,
       "margin": null,
       "max_height": null,
       "max_width": null,
       "min_height": null,
       "min_width": null,
       "object_fit": null,
       "object_position": null,
       "order": null,
       "overflow": null,
       "overflow_x": null,
       "overflow_y": null,
       "padding": null,
       "right": null,
       "top": null,
       "visibility": null,
       "width": null
      }
     },
     "0cacc8f9f61f4b19ae1f76d318bbc825": {
      "model_module": "@jupyter-widgets/controls",
      "model_module_version": "1.5.0",
      "model_name": "IntSliderModel",
      "state": {
       "_dom_classes": [],
       "_model_module": "@jupyter-widgets/controls",
       "_model_module_version": "1.5.0",
       "_model_name": "IntSliderModel",
       "_view_count": null,
       "_view_module": "@jupyter-widgets/controls",
       "_view_module_version": "1.5.0",
       "_view_name": "IntSliderView",
       "continuous_update": true,
       "description": "windowsize",
       "description_tooltip": null,
       "disabled": false,
       "layout": "IPY_MODEL_e71eb8b597514a5e96b992df544a0ac6",
       "max": 100,
       "min": 1,
       "orientation": "horizontal",
       "readout": true,
       "readout_format": "d",
       "step": 1,
       "style": "IPY_MODEL_4ee2b809d7014f35ad9595a93884f996",
       "value": 100
      }
     },
     "13578ae7c62b4ec797f284a06d8b1523": {
      "model_module": "@jupyter-widgets/controls",
      "model_module_version": "1.5.0",
      "model_name": "FloatSliderModel",
      "state": {
       "_dom_classes": [],
       "_model_module": "@jupyter-widgets/controls",
       "_model_module_version": "1.5.0",
       "_model_name": "FloatSliderModel",
       "_view_count": null,
       "_view_module": "@jupyter-widgets/controls",
       "_view_module_version": "1.5.0",
       "_view_name": "FloatSliderView",
       "continuous_update": true,
       "description": "threshold",
       "description_tooltip": null,
       "disabled": false,
       "layout": "IPY_MODEL_9965a12c9f3649619a33b430fc85251e",
       "max": 2,
       "min": -1,
       "orientation": "horizontal",
       "readout": true,
       "readout_format": ".2f",
       "step": 0.01,
       "style": "IPY_MODEL_eead40f1742a422a981b11f7d0f19ccd",
       "value": 0
      }
     },
     "314d7bd8c4194772b134868ccdb28edb": {
      "model_module": "@jupyter-widgets/base",
      "model_module_version": "1.2.0",
      "model_name": "LayoutModel",
      "state": {
       "_model_module": "@jupyter-widgets/base",
       "_model_module_version": "1.2.0",
       "_model_name": "LayoutModel",
       "_view_count": null,
       "_view_module": "@jupyter-widgets/base",
       "_view_module_version": "1.2.0",
       "_view_name": "LayoutView",
       "align_content": null,
       "align_items": null,
       "align_self": null,
       "border": null,
       "bottom": null,
       "display": null,
       "flex": null,
       "flex_flow": null,
       "grid_area": null,
       "grid_auto_columns": null,
       "grid_auto_flow": null,
       "grid_auto_rows": null,
       "grid_column": null,
       "grid_gap": null,
       "grid_row": null,
       "grid_template_areas": null,
       "grid_template_columns": null,
       "grid_template_rows": null,
       "height": null,
       "justify_content": null,
       "justify_items": null,
       "left": null,
       "margin": null,
       "max_height": null,
       "max_width": null,
       "min_height": null,
       "min_width": null,
       "object_fit": null,
       "object_position": null,
       "order": null,
       "overflow": null,
       "overflow_x": null,
       "overflow_y": null,
       "padding": null,
       "right": null,
       "top": null,
       "visibility": null,
       "width": null
      }
     },
     "3b99266c8b8141758e3c05f999f17468": {
      "model_module": "@jupyter-widgets/controls",
      "model_module_version": "1.5.0",
      "model_name": "VBoxModel",
      "state": {
       "_dom_classes": [
        "widget-interact"
       ],
       "_model_module": "@jupyter-widgets/controls",
       "_model_module_version": "1.5.0",
       "_model_name": "VBoxModel",
       "_view_count": null,
       "_view_module": "@jupyter-widgets/controls",
       "_view_module_version": "1.5.0",
       "_view_name": "VBoxView",
       "box_style": "",
       "children": [
        "IPY_MODEL_a130ae5f2a924f198025975fd46a894f",
        "IPY_MODEL_6fbe3d12c202466fb897693501838500",
        "IPY_MODEL_db7f843327b84be08ca9cb1123c59556"
       ],
       "layout": "IPY_MODEL_314d7bd8c4194772b134868ccdb28edb"
      }
     },
     "4ee2b809d7014f35ad9595a93884f996": {
      "model_module": "@jupyter-widgets/controls",
      "model_module_version": "1.5.0",
      "model_name": "SliderStyleModel",
      "state": {
       "_model_module": "@jupyter-widgets/controls",
       "_model_module_version": "1.5.0",
       "_model_name": "SliderStyleModel",
       "_view_count": null,
       "_view_module": "@jupyter-widgets/base",
       "_view_module_version": "1.2.0",
       "_view_name": "StyleView",
       "description_width": "",
       "handle_color": null
      }
     },
     "58040450a18a4770af7049afadcd7b54": {
      "model_module": "@jupyter-widgets/base",
      "model_module_version": "1.2.0",
      "model_name": "LayoutModel",
      "state": {
       "_model_module": "@jupyter-widgets/base",
       "_model_module_version": "1.2.0",
       "_model_name": "LayoutModel",
       "_view_count": null,
       "_view_module": "@jupyter-widgets/base",
       "_view_module_version": "1.2.0",
       "_view_name": "LayoutView",
       "align_content": null,
       "align_items": null,
       "align_self": null,
       "border": null,
       "bottom": null,
       "display": null,
       "flex": null,
       "flex_flow": null,
       "grid_area": null,
       "grid_auto_columns": null,
       "grid_auto_flow": null,
       "grid_auto_rows": null,
       "grid_column": null,
       "grid_gap": null,
       "grid_row": null,
       "grid_template_areas": null,
       "grid_template_columns": null,
       "grid_template_rows": null,
       "height": null,
       "justify_content": null,
       "justify_items": null,
       "left": null,
       "margin": null,
       "max_height": null,
       "max_width": null,
       "min_height": null,
       "min_width": null,
       "object_fit": null,
       "object_position": null,
       "order": null,
       "overflow": null,
       "overflow_x": null,
       "overflow_y": null,
       "padding": null,
       "right": null,
       "top": null,
       "visibility": null,
       "width": null
      }
     },
     "617db0cd3c7f4a599b98a14cbd57727d": {
      "model_module": "@jupyter-widgets/controls",
      "model_module_version": "1.5.0",
      "model_name": "SliderStyleModel",
      "state": {
       "_model_module": "@jupyter-widgets/controls",
       "_model_module_version": "1.5.0",
       "_model_name": "SliderStyleModel",
       "_view_count": null,
       "_view_module": "@jupyter-widgets/base",
       "_view_module_version": "1.2.0",
       "_view_name": "StyleView",
       "description_width": "",
       "handle_color": null
      }
     },
     "6fbe3d12c202466fb897693501838500": {
      "model_module": "@jupyter-widgets/controls",
      "model_module_version": "1.5.0",
      "model_name": "IntSliderModel",
      "state": {
       "_dom_classes": [],
       "_model_module": "@jupyter-widgets/controls",
       "_model_module_version": "1.5.0",
       "_model_name": "IntSliderModel",
       "_view_count": null,
       "_view_module": "@jupyter-widgets/controls",
       "_view_module_version": "1.5.0",
       "_view_name": "IntSliderView",
       "continuous_update": true,
       "description": "windowsize",
       "description_tooltip": null,
       "disabled": false,
       "layout": "IPY_MODEL_c693d4ced99045858e5ddacb9dde16cb",
       "max": 100,
       "min": 1,
       "orientation": "horizontal",
       "readout": true,
       "readout_format": "d",
       "step": 1,
       "style": "IPY_MODEL_bdfa7d50fa004506b66417ae934380f1",
       "value": 100
      }
     },
     "857b3ad333364e10a563238d2660ae4f": {
      "model_module": "@jupyter-widgets/base",
      "model_module_version": "1.2.0",
      "model_name": "LayoutModel",
      "state": {
       "_model_module": "@jupyter-widgets/base",
       "_model_module_version": "1.2.0",
       "_model_name": "LayoutModel",
       "_view_count": null,
       "_view_module": "@jupyter-widgets/base",
       "_view_module_version": "1.2.0",
       "_view_name": "LayoutView",
       "align_content": null,
       "align_items": null,
       "align_self": null,
       "border": null,
       "bottom": null,
       "display": null,
       "flex": null,
       "flex_flow": null,
       "grid_area": null,
       "grid_auto_columns": null,
       "grid_auto_flow": null,
       "grid_auto_rows": null,
       "grid_column": null,
       "grid_gap": null,
       "grid_row": null,
       "grid_template_areas": null,
       "grid_template_columns": null,
       "grid_template_rows": null,
       "height": null,
       "justify_content": null,
       "justify_items": null,
       "left": null,
       "margin": null,
       "max_height": null,
       "max_width": null,
       "min_height": null,
       "min_width": null,
       "object_fit": null,
       "object_position": null,
       "order": null,
       "overflow": null,
       "overflow_x": null,
       "overflow_y": null,
       "padding": null,
       "right": null,
       "top": null,
       "visibility": null,
       "width": null
      }
     },
     "9965a12c9f3649619a33b430fc85251e": {
      "model_module": "@jupyter-widgets/base",
      "model_module_version": "1.2.0",
      "model_name": "LayoutModel",
      "state": {
       "_model_module": "@jupyter-widgets/base",
       "_model_module_version": "1.2.0",
       "_model_name": "LayoutModel",
       "_view_count": null,
       "_view_module": "@jupyter-widgets/base",
       "_view_module_version": "1.2.0",
       "_view_name": "LayoutView",
       "align_content": null,
       "align_items": null,
       "align_self": null,
       "border": null,
       "bottom": null,
       "display": null,
       "flex": null,
       "flex_flow": null,
       "grid_area": null,
       "grid_auto_columns": null,
       "grid_auto_flow": null,
       "grid_auto_rows": null,
       "grid_column": null,
       "grid_gap": null,
       "grid_row": null,
       "grid_template_areas": null,
       "grid_template_columns": null,
       "grid_template_rows": null,
       "height": null,
       "justify_content": null,
       "justify_items": null,
       "left": null,
       "margin": null,
       "max_height": null,
       "max_width": null,
       "min_height": null,
       "min_width": null,
       "object_fit": null,
       "object_position": null,
       "order": null,
       "overflow": null,
       "overflow_x": null,
       "overflow_y": null,
       "padding": null,
       "right": null,
       "top": null,
       "visibility": null,
       "width": null
      }
     },
     "9e192dec8f52407ebe28b70791d356b2": {
      "model_module": "@jupyter-widgets/controls",
      "model_module_version": "1.5.0",
      "model_name": "VBoxModel",
      "state": {
       "_dom_classes": [
        "widget-interact"
       ],
       "_model_module": "@jupyter-widgets/controls",
       "_model_module_version": "1.5.0",
       "_model_name": "VBoxModel",
       "_view_count": null,
       "_view_module": "@jupyter-widgets/controls",
       "_view_module_version": "1.5.0",
       "_view_name": "VBoxView",
       "box_style": "",
       "children": [
        "IPY_MODEL_f59ca232f0f74aeeac08e884ac0be670",
        "IPY_MODEL_a8a87fa9a81540e4a0035822506cbd8d",
        "IPY_MODEL_cb0a70cb964c4098bb7053b45f5b664f"
       ],
       "layout": "IPY_MODEL_dd60882ddf6f4ed7b6652f2fb6a805cf"
      }
     },
     "a0f79489d7f84b78819f908d3e7733b4": {
      "model_module": "@jupyter-widgets/base",
      "model_module_version": "1.2.0",
      "model_name": "LayoutModel",
      "state": {
       "_model_module": "@jupyter-widgets/base",
       "_model_module_version": "1.2.0",
       "_model_name": "LayoutModel",
       "_view_count": null,
       "_view_module": "@jupyter-widgets/base",
       "_view_module_version": "1.2.0",
       "_view_name": "LayoutView",
       "align_content": null,
       "align_items": null,
       "align_self": null,
       "border": null,
       "bottom": null,
       "display": null,
       "flex": null,
       "flex_flow": null,
       "grid_area": null,
       "grid_auto_columns": null,
       "grid_auto_flow": null,
       "grid_auto_rows": null,
       "grid_column": null,
       "grid_gap": null,
       "grid_row": null,
       "grid_template_areas": null,
       "grid_template_columns": null,
       "grid_template_rows": null,
       "height": null,
       "justify_content": null,
       "justify_items": null,
       "left": null,
       "margin": null,
       "max_height": null,
       "max_width": null,
       "min_height": null,
       "min_width": null,
       "object_fit": null,
       "object_position": null,
       "order": null,
       "overflow": null,
       "overflow_x": null,
       "overflow_y": null,
       "padding": null,
       "right": null,
       "top": null,
       "visibility": null,
       "width": null
      }
     },
     "a130ae5f2a924f198025975fd46a894f": {
      "model_module": "@jupyter-widgets/controls",
      "model_module_version": "1.5.0",
      "model_name": "FloatSliderModel",
      "state": {
       "_dom_classes": [],
       "_model_module": "@jupyter-widgets/controls",
       "_model_module_version": "1.5.0",
       "_model_name": "FloatSliderModel",
       "_view_count": null,
       "_view_module": "@jupyter-widgets/controls",
       "_view_module_version": "1.5.0",
       "_view_name": "FloatSliderView",
       "continuous_update": true,
       "description": "threshold",
       "description_tooltip": null,
       "disabled": false,
       "layout": "IPY_MODEL_857b3ad333364e10a563238d2660ae4f",
       "max": 2,
       "min": -1,
       "orientation": "horizontal",
       "readout": true,
       "readout_format": ".2f",
       "step": 0.01,
       "style": "IPY_MODEL_f79315d3f6dd4727996cdf474e09631c",
       "value": 0
      }
     },
     "a8a87fa9a81540e4a0035822506cbd8d": {
      "model_module": "@jupyter-widgets/controls",
      "model_module_version": "1.5.0",
      "model_name": "IntSliderModel",
      "state": {
       "_dom_classes": [],
       "_model_module": "@jupyter-widgets/controls",
       "_model_module_version": "1.5.0",
       "_model_name": "IntSliderModel",
       "_view_count": null,
       "_view_module": "@jupyter-widgets/controls",
       "_view_module_version": "1.5.0",
       "_view_name": "IntSliderView",
       "continuous_update": true,
       "description": "windowsize",
       "description_tooltip": null,
       "disabled": false,
       "layout": "IPY_MODEL_a0f79489d7f84b78819f908d3e7733b4",
       "max": 100,
       "min": 1,
       "orientation": "horizontal",
       "readout": true,
       "readout_format": "d",
       "step": 1,
       "style": "IPY_MODEL_617db0cd3c7f4a599b98a14cbd57727d",
       "value": 100
      }
     },
     "bdfa7d50fa004506b66417ae934380f1": {
      "model_module": "@jupyter-widgets/controls",
      "model_module_version": "1.5.0",
      "model_name": "SliderStyleModel",
      "state": {
       "_model_module": "@jupyter-widgets/controls",
       "_model_module_version": "1.5.0",
       "_model_name": "SliderStyleModel",
       "_view_count": null,
       "_view_module": "@jupyter-widgets/base",
       "_view_module_version": "1.2.0",
       "_view_name": "StyleView",
       "description_width": "",
       "handle_color": null
      }
     },
     "be5ab7897412404785387f3e424078f4": {
      "model_module": "@jupyter-widgets/controls",
      "model_module_version": "1.5.0",
      "model_name": "VBoxModel",
      "state": {
       "_dom_classes": [
        "widget-interact"
       ],
       "_model_module": "@jupyter-widgets/controls",
       "_model_module_version": "1.5.0",
       "_model_name": "VBoxModel",
       "_view_count": null,
       "_view_module": "@jupyter-widgets/controls",
       "_view_module_version": "1.5.0",
       "_view_name": "VBoxView",
       "box_style": "",
       "children": [
        "IPY_MODEL_13578ae7c62b4ec797f284a06d8b1523",
        "IPY_MODEL_0cacc8f9f61f4b19ae1f76d318bbc825",
        "IPY_MODEL_e6027988a8ec41fbb975e519c2c235d8"
       ],
       "layout": "IPY_MODEL_58040450a18a4770af7049afadcd7b54"
      }
     },
     "c693d4ced99045858e5ddacb9dde16cb": {
      "model_module": "@jupyter-widgets/base",
      "model_module_version": "1.2.0",
      "model_name": "LayoutModel",
      "state": {
       "_model_module": "@jupyter-widgets/base",
       "_model_module_version": "1.2.0",
       "_model_name": "LayoutModel",
       "_view_count": null,
       "_view_module": "@jupyter-widgets/base",
       "_view_module_version": "1.2.0",
       "_view_name": "LayoutView",
       "align_content": null,
       "align_items": null,
       "align_self": null,
       "border": null,
       "bottom": null,
       "display": null,
       "flex": null,
       "flex_flow": null,
       "grid_area": null,
       "grid_auto_columns": null,
       "grid_auto_flow": null,
       "grid_auto_rows": null,
       "grid_column": null,
       "grid_gap": null,
       "grid_row": null,
       "grid_template_areas": null,
       "grid_template_columns": null,
       "grid_template_rows": null,
       "height": null,
       "justify_content": null,
       "justify_items": null,
       "left": null,
       "margin": null,
       "max_height": null,
       "max_width": null,
       "min_height": null,
       "min_width": null,
       "object_fit": null,
       "object_position": null,
       "order": null,
       "overflow": null,
       "overflow_x": null,
       "overflow_y": null,
       "padding": null,
       "right": null,
       "top": null,
       "visibility": null,
       "width": null
      }
     },
     "cb0a70cb964c4098bb7053b45f5b664f": {
      "model_module": "@jupyter-widgets/output",
      "model_module_version": "1.0.0",
      "model_name": "OutputModel",
      "state": {
       "_dom_classes": [],
       "_model_module": "@jupyter-widgets/output",
       "_model_module_version": "1.0.0",
       "_model_name": "OutputModel",
       "_view_count": null,
       "_view_module": "@jupyter-widgets/output",
       "_view_module_version": "1.0.0",
       "_view_name": "OutputView",
       "layout": "IPY_MODEL_045874224dfe456d871084c87359512f",
       "msg_id": "",
       "outputs": []
      }
     },
     "db7f843327b84be08ca9cb1123c59556": {
      "model_module": "@jupyter-widgets/output",
      "model_module_version": "1.0.0",
      "model_name": "OutputModel",
      "state": {
       "_dom_classes": [],
       "_model_module": "@jupyter-widgets/output",
       "_model_module_version": "1.0.0",
       "_model_name": "OutputModel",
       "_view_count": null,
       "_view_module": "@jupyter-widgets/output",
       "_view_module_version": "1.0.0",
       "_view_name": "OutputView",
       "layout": "IPY_MODEL_03fe23aa140a4d829ab23861b5c4a0ce",
       "msg_id": "",
       "outputs": []
      }
     },
     "dd60882ddf6f4ed7b6652f2fb6a805cf": {
      "model_module": "@jupyter-widgets/base",
      "model_module_version": "1.2.0",
      "model_name": "LayoutModel",
      "state": {
       "_model_module": "@jupyter-widgets/base",
       "_model_module_version": "1.2.0",
       "_model_name": "LayoutModel",
       "_view_count": null,
       "_view_module": "@jupyter-widgets/base",
       "_view_module_version": "1.2.0",
       "_view_name": "LayoutView",
       "align_content": null,
       "align_items": null,
       "align_self": null,
       "border": null,
       "bottom": null,
       "display": null,
       "flex": null,
       "flex_flow": null,
       "grid_area": null,
       "grid_auto_columns": null,
       "grid_auto_flow": null,
       "grid_auto_rows": null,
       "grid_column": null,
       "grid_gap": null,
       "grid_row": null,
       "grid_template_areas": null,
       "grid_template_columns": null,
       "grid_template_rows": null,
       "height": null,
       "justify_content": null,
       "justify_items": null,
       "left": null,
       "margin": null,
       "max_height": null,
       "max_width": null,
       "min_height": null,
       "min_width": null,
       "object_fit": null,
       "object_position": null,
       "order": null,
       "overflow": null,
       "overflow_x": null,
       "overflow_y": null,
       "padding": null,
       "right": null,
       "top": null,
       "visibility": null,
       "width": null
      }
     },
     "e3e7f0e8a804430a9d7d3eb3dc2adc9c": {
      "model_module": "@jupyter-widgets/base",
      "model_module_version": "1.2.0",
      "model_name": "LayoutModel",
      "state": {
       "_model_module": "@jupyter-widgets/base",
       "_model_module_version": "1.2.0",
       "_model_name": "LayoutModel",
       "_view_count": null,
       "_view_module": "@jupyter-widgets/base",
       "_view_module_version": "1.2.0",
       "_view_name": "LayoutView",
       "align_content": null,
       "align_items": null,
       "align_self": null,
       "border": null,
       "bottom": null,
       "display": null,
       "flex": null,
       "flex_flow": null,
       "grid_area": null,
       "grid_auto_columns": null,
       "grid_auto_flow": null,
       "grid_auto_rows": null,
       "grid_column": null,
       "grid_gap": null,
       "grid_row": null,
       "grid_template_areas": null,
       "grid_template_columns": null,
       "grid_template_rows": null,
       "height": null,
       "justify_content": null,
       "justify_items": null,
       "left": null,
       "margin": null,
       "max_height": null,
       "max_width": null,
       "min_height": null,
       "min_width": null,
       "object_fit": null,
       "object_position": null,
       "order": null,
       "overflow": null,
       "overflow_x": null,
       "overflow_y": null,
       "padding": null,
       "right": null,
       "top": null,
       "visibility": null,
       "width": null
      }
     },
     "e6027988a8ec41fbb975e519c2c235d8": {
      "model_module": "@jupyter-widgets/output",
      "model_module_version": "1.0.0",
      "model_name": "OutputModel",
      "state": {
       "_dom_classes": [],
       "_model_module": "@jupyter-widgets/output",
       "_model_module_version": "1.0.0",
       "_model_name": "OutputModel",
       "_view_count": null,
       "_view_module": "@jupyter-widgets/output",
       "_view_module_version": "1.0.0",
       "_view_name": "OutputView",
       "layout": "IPY_MODEL_f62c4a5bb4e3438998dc39bb7df999b6",
       "msg_id": "",
       "outputs": []
      }
     },
     "e71eb8b597514a5e96b992df544a0ac6": {
      "model_module": "@jupyter-widgets/base",
      "model_module_version": "1.2.0",
      "model_name": "LayoutModel",
      "state": {
       "_model_module": "@jupyter-widgets/base",
       "_model_module_version": "1.2.0",
       "_model_name": "LayoutModel",
       "_view_count": null,
       "_view_module": "@jupyter-widgets/base",
       "_view_module_version": "1.2.0",
       "_view_name": "LayoutView",
       "align_content": null,
       "align_items": null,
       "align_self": null,
       "border": null,
       "bottom": null,
       "display": null,
       "flex": null,
       "flex_flow": null,
       "grid_area": null,
       "grid_auto_columns": null,
       "grid_auto_flow": null,
       "grid_auto_rows": null,
       "grid_column": null,
       "grid_gap": null,
       "grid_row": null,
       "grid_template_areas": null,
       "grid_template_columns": null,
       "grid_template_rows": null,
       "height": null,
       "justify_content": null,
       "justify_items": null,
       "left": null,
       "margin": null,
       "max_height": null,
       "max_width": null,
       "min_height": null,
       "min_width": null,
       "object_fit": null,
       "object_position": null,
       "order": null,
       "overflow": null,
       "overflow_x": null,
       "overflow_y": null,
       "padding": null,
       "right": null,
       "top": null,
       "visibility": null,
       "width": null
      }
     },
     "eead40f1742a422a981b11f7d0f19ccd": {
      "model_module": "@jupyter-widgets/controls",
      "model_module_version": "1.5.0",
      "model_name": "SliderStyleModel",
      "state": {
       "_model_module": "@jupyter-widgets/controls",
       "_model_module_version": "1.5.0",
       "_model_name": "SliderStyleModel",
       "_view_count": null,
       "_view_module": "@jupyter-widgets/base",
       "_view_module_version": "1.2.0",
       "_view_name": "StyleView",
       "description_width": "",
       "handle_color": null
      }
     },
     "f0f5327dd46e41fc830e4459cc70c9a0": {
      "model_module": "@jupyter-widgets/controls",
      "model_module_version": "1.5.0",
      "model_name": "SliderStyleModel",
      "state": {
       "_model_module": "@jupyter-widgets/controls",
       "_model_module_version": "1.5.0",
       "_model_name": "SliderStyleModel",
       "_view_count": null,
       "_view_module": "@jupyter-widgets/base",
       "_view_module_version": "1.2.0",
       "_view_name": "StyleView",
       "description_width": "",
       "handle_color": null
      }
     },
     "f59ca232f0f74aeeac08e884ac0be670": {
      "model_module": "@jupyter-widgets/controls",
      "model_module_version": "1.5.0",
      "model_name": "FloatSliderModel",
      "state": {
       "_dom_classes": [],
       "_model_module": "@jupyter-widgets/controls",
       "_model_module_version": "1.5.0",
       "_model_name": "FloatSliderModel",
       "_view_count": null,
       "_view_module": "@jupyter-widgets/controls",
       "_view_module_version": "1.5.0",
       "_view_name": "FloatSliderView",
       "continuous_update": true,
       "description": "threshold",
       "description_tooltip": null,
       "disabled": false,
       "layout": "IPY_MODEL_e3e7f0e8a804430a9d7d3eb3dc2adc9c",
       "max": 2,
       "min": -1,
       "orientation": "horizontal",
       "readout": true,
       "readout_format": ".2f",
       "step": 0.01,
       "style": "IPY_MODEL_f0f5327dd46e41fc830e4459cc70c9a0",
       "value": 0
      }
     },
     "f62c4a5bb4e3438998dc39bb7df999b6": {
      "model_module": "@jupyter-widgets/base",
      "model_module_version": "1.2.0",
      "model_name": "LayoutModel",
      "state": {
       "_model_module": "@jupyter-widgets/base",
       "_model_module_version": "1.2.0",
       "_model_name": "LayoutModel",
       "_view_count": null,
       "_view_module": "@jupyter-widgets/base",
       "_view_module_version": "1.2.0",
       "_view_name": "LayoutView",
       "align_content": null,
       "align_items": null,
       "align_self": null,
       "border": null,
       "bottom": null,
       "display": null,
       "flex": null,
       "flex_flow": null,
       "grid_area": null,
       "grid_auto_columns": null,
       "grid_auto_flow": null,
       "grid_auto_rows": null,
       "grid_column": null,
       "grid_gap": null,
       "grid_row": null,
       "grid_template_areas": null,
       "grid_template_columns": null,
       "grid_template_rows": null,
       "height": null,
       "justify_content": null,
       "justify_items": null,
       "left": null,
       "margin": null,
       "max_height": null,
       "max_width": null,
       "min_height": null,
       "min_width": null,
       "object_fit": null,
       "object_position": null,
       "order": null,
       "overflow": null,
       "overflow_x": null,
       "overflow_y": null,
       "padding": null,
       "right": null,
       "top": null,
       "visibility": null,
       "width": null
      }
     },
     "f79315d3f6dd4727996cdf474e09631c": {
      "model_module": "@jupyter-widgets/controls",
      "model_module_version": "1.5.0",
      "model_name": "SliderStyleModel",
      "state": {
       "_model_module": "@jupyter-widgets/controls",
       "_model_module_version": "1.5.0",
       "_model_name": "SliderStyleModel",
       "_view_count": null,
       "_view_module": "@jupyter-widgets/base",
       "_view_module_version": "1.2.0",
       "_view_name": "StyleView",
       "description_width": "",
       "handle_color": null
      }
     }
    },
    "version_major": 2,
    "version_minor": 0
   }
  }
 },
 "nbformat": 4,
 "nbformat_minor": 1
}
